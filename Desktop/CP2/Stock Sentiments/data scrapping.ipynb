{
 "cells": [
  {
   "cell_type": "code",
   "execution_count": null,
   "id": "8b1d45aa",
   "metadata": {},
   "outputs": [],
   "source": [
    "from bs4 import BeautifulSoup\n",
    "\n",
    "# Path to the input HTML file\n",
    "input_html_path = r'C:\\Users\\Abhishek\\Desktop\\CP2\\Extract-Stock-Sentiment-From-News-Headlines-main\\Data Scrapping\\datasets\\CTS - CTS Corporation Stock Price and Quote.html'\n",
    "\n",
    "# Path to the output HTML file\n",
    "output_html_path = r'C:\\Users\\Abhishek\\Desktop\\CP2\\Extract-Stock-Sentiment-From-News-Headlines-main\\Data Scrapping\\datasets\\output.html'\n",
    "\n",
    "# Read the content of the input HTML file\n",
    "with open(input_html_path, 'r', encoding='utf-8') as input_file:\n",
    "    html_content = input_file.read()\n",
    "\n",
    "# Parse the HTML content using BeautifulSoup\n",
    "soup = BeautifulSoup(html_content, 'html.parser')\n",
    "\n",
    "# Here, you can perform NLP processing on the BeautifulSoup object (soup)\n",
    "# For example, you can extract specific elements, analyze text, etc.\n",
    "\n",
    "# Save the modified HTML content to the output HTML file\n",
    "with open(output_html_path, 'w', encoding='utf-8') as output_file:\n",
    "    output_file.write(str(soup))\n",
    "\n",
    "print(f'Data extracted from input HTML and saved as \"{output_html_path}\"')\n"
   ]
  },
  {
   "cell_type": "markdown",
   "id": "594d6d06",
   "metadata": {},
   "source": [
    "DELL - Dell Technologies Inc. Stock Price and Quote"
   ]
  },
  {
   "cell_type": "code",
   "execution_count": null,
   "id": "d8a4b512",
   "metadata": {},
   "outputs": [],
   "source": [
    "from bs4 import BeautifulSoup\n",
    "\n",
    "# Path to the input HTML file\n",
    "input_html_path = r'C:\\Users\\Abhishek\\Desktop\\CP2\\Extract-Stock-Sentiment-From-News-Headlines-main\\Data Scrapping\\From web\\YETI - YETI Holdings, Inc. Stock Price and Quote.html'\n",
    "\n",
    "# Path to the output HTML file\n",
    "output_html_path = r'C:\\Users\\Abhishek\\Desktop\\CP2\\Extract-Stock-Sentiment-From-News-Headlines-main\\Data Scrapping\\datasets\\YETI.html'\n",
    "\n",
    "# Read the content of the input HTML file\n",
    "with open(input_html_path, 'r', encoding='utf-8') as input_file:\n",
    "    html_content = input_file.read()\n",
    "\n",
    "# Parse the HTML content using BeautifulSoup\n",
    "soup = BeautifulSoup(html_content, 'html.parser')\n",
    "\n",
    "# Here, you can perform NLP processing on the BeautifulSoup object (soup)\n",
    "# For example, you can extract specific elements, analyze text, etc.\n",
    "\n",
    "# Save the modified HTML content to the output HTML file\n",
    "with open(output_html_path, 'w', encoding='utf-8') as output_file:\n",
    "    output_file.write(str(soup))\n",
    "\n",
    "print(f'Data extracted from input HTML and saved as \"{output_html_path}\"')\n"
   ]
  },
  {
   "cell_type": "code",
   "execution_count": null,
   "id": "a8a70e45",
   "metadata": {},
   "outputs": [],
   "source": []
  }
 ],
 "metadata": {
  "kernelspec": {
   "display_name": "Python 3 (ipykernel)",
   "language": "python",
   "name": "python3"
  },
  "language_info": {
   "codemirror_mode": {
    "name": "ipython",
    "version": 3
   },
   "file_extension": ".py",
   "mimetype": "text/x-python",
   "name": "python",
   "nbconvert_exporter": "python",
   "pygments_lexer": "ipython3",
   "version": "3.10.9"
  }
 },
 "nbformat": 4,
 "nbformat_minor": 5
}

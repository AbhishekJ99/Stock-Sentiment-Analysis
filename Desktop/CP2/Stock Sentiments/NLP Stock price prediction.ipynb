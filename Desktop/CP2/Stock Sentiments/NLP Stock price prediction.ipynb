{
 "cells": [
  {
   "cell_type": "markdown",
   "metadata": {
    "dc": {
     "key": "3"
    },
    "deletable": false,
    "editable": false,
    "run_control": {
     "frozen": true
    },
    "tags": [
     "context"
    ]
   },
   "source": [
    "## 1. Searching for gold inside HTML files\n",
    "<p>It used to take days for financial news to spread via radio, newspapers, and word of mouth. Now, in the age of the internet, it takes seconds. Did you know news articles are <em>automatically</em> being generated from figures and earnings call streams? Hedge funds and independent traders are using data science to process this wealth of information in the quest for profit.</p>\n",
    "<p>In this notebook, we will generate investing insight by applying <a href=\"https://en.wikipedia.org/wiki/Sentiment_analysis\">sentiment analysis</a> on financial news headlines from <a href=\"https://finviz.com\">FINVIZ.com</a>. Using this <a href=\"https://en.wikipedia.org/wiki/Natural_language_processing\">natural language processing</a> technique, we can understand the emotion behind the headlines and predict whether the market <em>feels</em> good or bad about a stock. It would then be possible to make educated guesses on how certain stocks will perform and trade accordingly. (And hopefully, make money!)</p>\n",
    "<p><img src=\"images/fb_headlines.png\" alt=\"Facebook headlines from FINVIZ.com\"></p>\n",
    "<p>Why headlines? And why from FINVIZ?</p>\n",
    "<ol>\n",
    "<li>Headlines, which have similar length, are easier to parse and group than full articles, which vary in length.</li>\n",
    "<li>FINVIZ has a list of trusted websites, and headlines from these sites tend to be more consistent in their jargon than those from independent bloggers. Consistent textual patterns will improve the sentiment analysis.</li>\n",
    "</ol>\n",
    "<p>As <a href=\"https://en.wikipedia.org/wiki/Web_scraping\">web scraping</a> requires data science ethics (sending a lot of traffic to a FINVIZ's servers isn't very nice), the HTML files for Facebook and Tesla at various points in time have been downloaded. Let's import these files into memory.</p>\n",
    "<p><strong>Disclaimer: Investing in the stock market involves risk and can lead to monetary loss. The content in this notebook is not to be taken as financial advice.</strong> </p>"
   ]
  },
  {
   "cell_type": "markdown",
   "metadata": {},
   "source": [
    "\n"
   ]
  },
  {
   "cell_type": "code",
   "execution_count": 130,
   "metadata": {
    "dc": {
     "key": "3"
    },
    "tags": [
     "sample_code"
    ]
   },
   "outputs": [],
   "source": [
    "# Import libraries\n",
    "import warnings\n",
    "warnings.filterwarnings(\"ignore\")\n",
    "from bs4 import BeautifulSoup\n",
    "import os\n",
    "\n",
    "html_tables = {}\n",
    "\n",
    "# For every table in the datasets folder...\n",
    "for table_name in os.listdir('datasets'):\n",
    "    #this is the path to the file. Don't touch!\n",
    "    table_path = f'datasets/{table_name}'\n",
    "    # Open as a python file in read-only mode\n",
    "    table_file = open(table_path, 'r')\n",
    "    # Read the contents of the file into 'html'\n",
    "    html = BeautifulSoup(table_file)\n",
    "    # Find 'news-table' in the Soup and load it into 'html_table'\n",
    "    html_table = html.find(id='news-table')\n",
    "    # Add the table to our dictionary\n",
    "    html_tables[table_name] = html_table"
   ]
  },
  {
   "cell_type": "markdown",
   "metadata": {
    "dc": {
     "key": "10"
    },
    "deletable": false,
    "editable": false,
    "run_control": {
     "frozen": true
    },
    "tags": [
     "context"
    ]
   },
   "source": [
    "## 2. What is inside those files anyway?\n",
    "<p>We've grabbed the table that contains the headlines from each stock's HTML file, but before we start parsing those tables further, we need to understand how the data in that table is structured. We have a few options for this:</p>\n",
    "<ul>\n",
    "<li>Open the HTML file with a text editor (preferably one with syntax highlighting, like <a href=\"http://www.sublimetext.com/\">Sublime Text</a>) and explore it there</li>\n",
    "<li>Use your browser's <a href=\"https://addons.mozilla.org/en-US/firefox/addon/web-developer/\">webdev toolkit</a> to explore the HTML</li>\n",
    "<li>Explore the headlines table here in this notebook!</li>\n",
    "</ul>\n",
    "<p>Let's do the third option.</p>"
   ]
  },
  {
   "cell_type": "code",
   "execution_count": 132,
   "metadata": {
    "dc": {
     "key": "10"
    },
    "tags": [
     "sample_code"
    ]
   },
   "outputs": [
    {
     "name": "stdout",
     "output_type": "stream",
     "text": [
      "File number 1:\n",
      "Sidoti Events, LLCs Virtual September Small-Cap Conference\n",
      "\n",
      "            Sep-19-23 09:00AM\n",
      "        \n",
      "File number 2:\n",
      "CTS Corporation to Participate in Sidoti Virtual Investor Conference\n",
      "\n",
      "            Sep-15-23 09:37AM\n",
      "        \n",
      "File number 3:\n",
      "CTS Corporation Declares a Dividend\n",
      "\n",
      "            Aug-17-23 04:15PM\n",
      "        \n",
      "File number 4:\n",
      "Should You Be Confident in CTS Corporation (CTS)s Market Share Position?\n",
      "\n",
      "            Aug-03-23 10:24AM\n",
      "        \n"
     ]
    }
   ],
   "source": [
    "# Read one single day of headlines \n",
    "tsla = html_tables['CTS_20230923.html']\n",
    "# Get all the table rows tagged in HTML with <tr> into 'tesla_tr'\n",
    "tsla_tr = tsla.findAll('tr')\n",
    "\n",
    "# For each row...\n",
    "for i, table_row in enumerate(tsla_tr):\n",
    "    # Read the text of the element 'a' into 'link_text'\n",
    "    link_text = table_row.a.get_text()\n",
    "    # Read the text of the element 'td' into 'data_text'\n",
    "    data_text = table_row.td.get_text()\n",
    "    # Print the count\n",
    "    print(f'File number {i+1}:')\n",
    "    # Print the contents of 'link_text' and 'data_text' \n",
    "    print(link_text)\n",
    "    print(data_text)\n",
    "    # The following exits the loop after four rows to prevent spamming the notebook, do not touch\n",
    "    if i == 3:\n",
    "        break"
   ]
  },
  {
   "cell_type": "markdown",
   "metadata": {
    "dc": {
     "key": "17"
    },
    "deletable": false,
    "editable": false,
    "run_control": {
     "frozen": true
    },
    "tags": [
     "context"
    ]
   },
   "source": [
    "## 3. Extra, extra! Extract the news headlines\n",
    "<p>As we saw above, the interesting data inside each table row (<code>&lt;tr&gt;</code>) is in the text inside the <code>&lt;td&gt;</code> and <code>&lt;a&gt;</code> tags. Let's now actually parse the data for <strong>all</strong> tables in a comfortable data structure.</p>"
   ]
  },
  {
   "cell_type": "code",
   "execution_count": 133,
   "metadata": {
    "dc": {
     "key": "17"
    },
    "tags": [
     "sample_code"
    ]
   },
   "outputs": [],
   "source": [
    "# Hold the parsed news into a list\n",
    "parsed_news = []\n",
    "# Iterate through the news\n",
    "for file_name, news_table in html_tables.items():\n",
    "    # Iterate through all tr tags in 'news_table'\n",
    "    for x in news_table.findAll('tr'):\n",
    "        # Read the text from the tr tag into text\n",
    "        text = x.get_text() \n",
    "        # Split the /text in the td tag into a list \n",
    "        date_scrape = x.td.text.split()\n",
    "        # If the length of 'date_scrape' is 1, load 'time' as the only element\n",
    "        # If not, load 'date' as the 1st element and 'time' as the second\n",
    "        if len(date_scrape) == 1:\n",
    "            time = date_scrape[0]\n",
    "        else:\n",
    "            date = date_scrape[0]\n",
    "            time = date_scrape[1]\n",
    "\n",
    "        # Extract the ticker from the file name, get the string up to the 1st '_'  \n",
    "        ticker = file_name.split(\"_\")[0]\n",
    "        # Append ticker, date, time and headline as a list to the 'parsed_news' list\n",
    "        parsed_news.append([ticker, date, time, x.a.text])"
   ]
  },
  {
   "cell_type": "markdown",
   "metadata": {
    "dc": {
     "key": "24"
    },
    "deletable": false,
    "editable": false,
    "run_control": {
     "frozen": true
    },
    "tags": [
     "context"
    ]
   },
   "source": [
    "## 4. Make NLTK think like a financial journalist\n",
    "<p>Sentiment analysis is very sensitive to context. As an example, saying <em>\"This is so addictive!\"</em> often means something positive if the context is a video game you are enjoying with your friends, but it very often means something negative when we are talking about opioids. Remember that the reason we chose headlines is so we can try to extract sentiment from financial journalists, who like most professionals, have their own lingo. Let's now make NLTK think like a financial journalist by adding some new words and sentiment values to our lexicon.</p>"
   ]
  },
  {
   "cell_type": "code",
   "execution_count": 134,
   "metadata": {},
   "outputs": [],
   "source": []
  },
  {
   "cell_type": "code",
   "execution_count": 135,
   "metadata": {
    "dc": {
     "key": "24"
    },
    "tags": [
     "sample_code"
    ]
   },
   "outputs": [],
   "source": [
    "\n",
    "import nltk\n",
    "#nltk.download('vader_lexicon')\n",
    "# NLTK VADER for sentiment analysis\n",
    "from nltk.sentiment.vader import SentimentIntensityAnalyzer\n",
    "\n",
    "# New words and values\n",
    "new_words = {\n",
    "    'crushes': 10,\n",
    "    'beats': 5,\n",
    "    'misses': -5,\n",
    "    'trouble': -10,\n",
    "    'falls': -100,\n",
    "}\n",
    "\n",
    "# Instantiate the sentiment intensity analyzer with the existing lexicon\n",
    "vader = SentimentIntensityAnalyzer()\n",
    "\n",
    "# Update the lexicon\n",
    "vader.lexicon.update(new_words)"
   ]
  },
  {
   "cell_type": "markdown",
   "metadata": {
    "dc": {
     "key": "31"
    },
    "deletable": false,
    "editable": false,
    "run_control": {
     "frozen": true
    },
    "tags": [
     "context"
    ]
   },
   "source": [
    "## 5. BREAKING NEWS: NLTK Crushes Sentiment Estimates\n",
    "<p>Now that we have the data and the algorithm loaded, we will get to the core of the matter: programmatically predicting sentiment out of news headlines! Luckily for us, VADER is very high level so, in this case, we will not adjust the model further<sup>*</sup> other than the lexicon additions from before.</p>\n",
    "<p><sup>*</sup>VADER \"out-of-the-box\" with some extra lexicon would likely translate into <strong>heavy losses</strong> with real money. A real sentiment analysis tool with chances of being profitable will require a very extensive and dedicated to finance news lexicon. Furthermore, it might also not be enough using a pre-packaged model like VADER.</p>"
   ]
  },
  {
   "cell_type": "code",
   "execution_count": 136,
   "metadata": {
    "dc": {
     "key": "31"
    },
    "tags": [
     "sample_code"
    ]
   },
   "outputs": [],
   "source": [
    "import pandas as pd\n",
    "\n",
    "# Use these column names\n",
    "columns = ['ticker', 'date', 'time', 'headline']\n",
    "\n",
    "# Convert the list of lists into a DataFrame\n",
    "scored_news = pd.DataFrame(parsed_news, columns=columns)\n",
    "\n",
    "# Iterate through the headlines and get the polarity scores\n",
    "scores = [vader.polarity_scores(head) for head in scored_news.headline]\n",
    "\n",
    "# Convert the list of dicts into a DataFrame\n",
    "scores_df = pd.DataFrame(scores)\n",
    "\n",
    "# Join the DataFrames\n",
    "scored_news = scored_news.join(scores_df)\n",
    "\n",
    "# Convert the date column from string to datetime\n",
    "scored_news['date'] = pd.to_datetime(scored_news.date).dt.date"
   ]
  },
  {
   "cell_type": "markdown",
   "metadata": {
    "dc": {
     "key": "38"
    },
    "deletable": false,
    "editable": false,
    "run_control": {
     "frozen": true
    },
    "tags": [
     "context"
    ]
   },
   "source": [
    "## 6. Plot all the sentiment in subplots\n",
    "<p>Now that we have the scores, let's start plotting the results. We will start by plotting the time series for the stocks we have.</p>"
   ]
  },
  {
   "cell_type": "code",
   "execution_count": 137,
   "metadata": {
    "dc": {
     "key": "38"
    },
    "scrolled": true,
    "tags": [
     "sample_code"
    ]
   },
   "outputs": [
    {
     "data": {
      "image/png": "[encoded data removed]",
      "text/plain": [
       "<Figure size 600x400 with 1 Axes>"
      ]
     },
     "metadata": {},
     "output_type": "display_data"
    }
   ],
   "source": [
    "import matplotlib.pyplot as plt\n",
    "import pandas as pd\n",
    "\n",
    "# Assuming you have a DataFrame 'scored_news' with a 'ticker' column\n",
    "\n",
    "# Count the occurrences of each ticker\n",
    "ticker_counts = scored_news['ticker'].value_counts()\n",
    "\n",
    "# Create a bar plot\n",
    "plt.figure(figsize=(6,4))\n",
    "ticker_counts.plot(kind='bar', color='skyblue')\n",
    "\n",
    "# Add labels and a title\n",
    "plt.xlabel('Ticker')\n",
    "plt.ylabel('Count')\n",
    "plt.title('Ticker Counts')\n",
    "\n",
    "# Rotate x-axis labels for better readability (optional)\n",
    "plt.xticks(rotation=45)\n",
    "\n",
    "# Show the plot\n",
    "plt.tight_layout()\n",
    "plt.show()\n"
   ]
  },
  {
   "cell_type": "markdown",
   "metadata": {
    "dc": {
     "key": "45"
    },
    "deletable": false,
    "editable": false,
    "run_control": {
     "frozen": true
    },
    "tags": [
     "context"
    ]
   },
   "source": [
    "## 7. Weekends and duplicates\n",
    "<p>What happened to Tesla on November 22nd? Since we happen to have the headlines inside our <code>DataFrame</code>, a quick peek reveals that there are a few problems with that particular day: </p>\n",
    "<ul>\n",
    "<li>There are only 5 headlines for that day.</li>\n",
    "<li>Two headlines are verbatim the same as another but from another news outlet.</li>\n",
    "</ul>\n",
    "<p>Let's clean up the dataset a bit, but not too much! While some headlines are the same news piece from different sources, the fact that they are written differently could provide different perspectives on the same story. Plus, when one piece of news is more important, it tends to get more headlines from multiple sources. What we want to get rid of is verbatim copied headlines, as these are very likely coming from the same journalist and are just being \"forwarded\" around, so to speak.</p>"
   ]
  },
  {
   "cell_type": "code",
   "execution_count": 138,
   "metadata": {
    "dc": {
     "key": "45"
    },
    "tags": [
     "sample_code"
    ]
   },
   "outputs": [
    {
     "data": {
      "text/plain": [
       "'Before we had 1387 headlines, now we have 1331'"
      ]
     },
     "execution_count": 138,
     "metadata": {},
     "output_type": "execute_result"
    }
   ],
   "source": [
    "# Count the number of headlines in scored_news (store as integer)\n",
    "num_news_before = scored_news.headline.count()\n",
    "\n",
    "# Drop duplicates based on ticker and headline\n",
    "scored_news_clean = scored_news.drop_duplicates(subset= ['headline', 'ticker'])\n",
    "\n",
    "# Count number of headlines after dropping duplicates\n",
    "num_news_after = scored_news_clean.headline.count()\n",
    "\n",
    "# Print before and after numbers to get an idea of how we did \n",
    "f\"Before we had {num_news_before} headlines, now we have {num_news_after}\""
   ]
  },
  {
   "cell_type": "code",
   "execution_count": 139,
   "metadata": {},
   "outputs": [
    {
     "data": {
      "text/plain": [
       "2019-01-02    66\n",
       "2018-09-19    63\n",
       "2018-09-20    52\n",
       "2023-09-22    51\n",
       "2019-01-04    48\n",
       "              ..\n",
       "2021-08-26     1\n",
       "2023-08-15     1\n",
       "2021-12-30     1\n",
       "2022-03-02     1\n",
       "2022-07-14     1\n",
       "Name: date, Length: 369, dtype: int64"
      ]
     },
     "execution_count": 139,
     "metadata": {},
     "output_type": "execute_result"
    }
   ],
   "source": [
    "scored_news_clean.date.value_counts()"
   ]
  },
  {
   "cell_type": "code",
   "execution_count": 140,
   "metadata": {},
   "outputs": [],
   "source": [
    "import pandas as pd\n",
    "df = scored_news_clean\n",
    "# Convert the 'date' column to string\n",
    "df['date'] = df['date'].astype(str)"
   ]
  },
  {
   "cell_type": "code",
   "execution_count": 141,
   "metadata": {},
   "outputs": [
    {
     "data": {
      "text/html": [
       "<div>\n",
       "<style scoped>\n",
       "    .dataframe tbody tr th:only-of-type {\n",
       "        vertical-align: middle;\n",
       "    }\n",
       "\n",
       "    .dataframe tbody tr th {\n",
       "        vertical-align: top;\n",
       "    }\n",
       "\n",
       "    .dataframe thead th {\n",
       "        text-align: right;\n",
       "    }\n",
       "</style>\n",
       "<table border=\"1\" class=\"dataframe\">\n",
       "  <thead>\n",
       "    <tr style=\"text-align: right;\">\n",
       "      <th></th>\n",
       "      <th>ticker</th>\n",
       "      <th>date</th>\n",
       "      <th>time</th>\n",
       "      <th>headline</th>\n",
       "      <th>neg</th>\n",
       "      <th>neu</th>\n",
       "      <th>pos</th>\n",
       "      <th>compound</th>\n",
       "    </tr>\n",
       "  </thead>\n",
       "  <tbody>\n",
       "    <tr>\n",
       "      <th>25</th>\n",
       "      <td>AT&amp;T.html</td>\n",
       "      <td>2023-09-19</td>\n",
       "      <td>05:11PM</td>\n",
       "      <td>Perini Management Services, Inc. Awarded $47 M...</td>\n",
       "      <td>0.000</td>\n",
       "      <td>0.856</td>\n",
       "      <td>0.144</td>\n",
       "      <td>0.4019</td>\n",
       "    </tr>\n",
       "    <tr>\n",
       "      <th>26</th>\n",
       "      <td>AT&amp;T.html</td>\n",
       "      <td>2023-09-19</td>\n",
       "      <td>11:47AM</td>\n",
       "      <td>Lawyer who helped break up AT&amp;T says DOJ has '...</td>\n",
       "      <td>0.000</td>\n",
       "      <td>0.805</td>\n",
       "      <td>0.195</td>\n",
       "      <td>0.5267</td>\n",
       "    </tr>\n",
       "    <tr>\n",
       "      <th>27</th>\n",
       "      <td>AT&amp;T.html</td>\n",
       "      <td>2023-09-19</td>\n",
       "      <td>01:00AM</td>\n",
       "      <td>Apple iPhone 15 Deals Are Out. What They Mean ...</td>\n",
       "      <td>0.000</td>\n",
       "      <td>1.000</td>\n",
       "      <td>0.000</td>\n",
       "      <td>0.0000</td>\n",
       "    </tr>\n",
       "    <tr>\n",
       "      <th>28</th>\n",
       "      <td>AT&amp;T.html</td>\n",
       "      <td>2023-09-19</td>\n",
       "      <td>12:31AM</td>\n",
       "      <td>Apple iPhone 15 launch sees major carriers off...</td>\n",
       "      <td>0.000</td>\n",
       "      <td>1.000</td>\n",
       "      <td>0.000</td>\n",
       "      <td>0.0000</td>\n",
       "    </tr>\n",
       "    <tr>\n",
       "      <th>219</th>\n",
       "      <td>CI.html</td>\n",
       "      <td>2023-09-19</td>\n",
       "      <td>06:15PM</td>\n",
       "      <td>Cigna (CI) Dips More Than Broader Markets: Wha...</td>\n",
       "      <td>0.000</td>\n",
       "      <td>1.000</td>\n",
       "      <td>0.000</td>\n",
       "      <td>0.0000</td>\n",
       "    </tr>\n",
       "    <tr>\n",
       "      <th>319</th>\n",
       "      <td>CTS</td>\n",
       "      <td>2023-09-19</td>\n",
       "      <td>09:00AM</td>\n",
       "      <td>Sidoti Events, LLCs Virtual September Small-Ca...</td>\n",
       "      <td>0.000</td>\n",
       "      <td>1.000</td>\n",
       "      <td>0.000</td>\n",
       "      <td>0.0000</td>\n",
       "    </tr>\n",
       "    <tr>\n",
       "      <th>431</th>\n",
       "      <td>dell.html</td>\n",
       "      <td>2023-09-19</td>\n",
       "      <td>01:47PM</td>\n",
       "      <td>SentinelOne (S), Mandiant Team Up to Strengthe...</td>\n",
       "      <td>0.000</td>\n",
       "      <td>0.753</td>\n",
       "      <td>0.247</td>\n",
       "      <td>0.3182</td>\n",
       "    </tr>\n",
       "    <tr>\n",
       "      <th>432</th>\n",
       "      <td>dell.html</td>\n",
       "      <td>2023-09-19</td>\n",
       "      <td>12:52PM</td>\n",
       "      <td>Intel Says Every PC Will Soon Be Capable of Ru...</td>\n",
       "      <td>0.000</td>\n",
       "      <td>0.809</td>\n",
       "      <td>0.191</td>\n",
       "      <td>0.3818</td>\n",
       "    </tr>\n",
       "    <tr>\n",
       "      <th>433</th>\n",
       "      <td>dell.html</td>\n",
       "      <td>2023-09-19</td>\n",
       "      <td>12:50PM</td>\n",
       "      <td>Dell Stock Gets an Upgrade as Demand Gets Stro...</td>\n",
       "      <td>0.135</td>\n",
       "      <td>0.631</td>\n",
       "      <td>0.234</td>\n",
       "      <td>0.2732</td>\n",
       "    </tr>\n",
       "    <tr>\n",
       "      <th>434</th>\n",
       "      <td>dell.html</td>\n",
       "      <td>2023-09-19</td>\n",
       "      <td>11:30AM</td>\n",
       "      <td>AMD Expands Fourth-Gen EPYC CPU Portfolio With...</td>\n",
       "      <td>0.000</td>\n",
       "      <td>0.851</td>\n",
       "      <td>0.149</td>\n",
       "      <td>0.1027</td>\n",
       "    </tr>\n",
       "    <tr>\n",
       "      <th>435</th>\n",
       "      <td>dell.html</td>\n",
       "      <td>2023-09-19</td>\n",
       "      <td>11:21AM</td>\n",
       "      <td>Apple's (AAPL) Prospects Shine on iPhone 15 Pr...</td>\n",
       "      <td>0.128</td>\n",
       "      <td>0.684</td>\n",
       "      <td>0.188</td>\n",
       "      <td>0.1779</td>\n",
       "    </tr>\n",
       "    <tr>\n",
       "      <th>436</th>\n",
       "      <td>dell.html</td>\n",
       "      <td>2023-09-19</td>\n",
       "      <td>10:00AM</td>\n",
       "      <td>Dell upgraded, Starbucks downgraded: Wall Stre...</td>\n",
       "      <td>0.000</td>\n",
       "      <td>0.816</td>\n",
       "      <td>0.184</td>\n",
       "      <td>0.2023</td>\n",
       "    </tr>\n",
       "    <tr>\n",
       "      <th>437</th>\n",
       "      <td>dell.html</td>\n",
       "      <td>2023-09-19</td>\n",
       "      <td>09:31AM</td>\n",
       "      <td>Midday movers: Instacart, AutoZone, Target and...</td>\n",
       "      <td>0.000</td>\n",
       "      <td>1.000</td>\n",
       "      <td>0.000</td>\n",
       "      <td>0.0000</td>\n",
       "    </tr>\n",
       "    <tr>\n",
       "      <th>438</th>\n",
       "      <td>dell.html</td>\n",
       "      <td>2023-09-19</td>\n",
       "      <td>08:34AM</td>\n",
       "      <td>The Zacks Analyst Blog Highlights Caterpillar,...</td>\n",
       "      <td>0.000</td>\n",
       "      <td>1.000</td>\n",
       "      <td>0.000</td>\n",
       "      <td>0.0000</td>\n",
       "    </tr>\n",
       "    <tr>\n",
       "      <th>439</th>\n",
       "      <td>dell.html</td>\n",
       "      <td>2023-09-19</td>\n",
       "      <td>08:32AM</td>\n",
       "      <td>Stocks Struggle as $95 Oil Adds to Rate Concer...</td>\n",
       "      <td>0.187</td>\n",
       "      <td>0.813</td>\n",
       "      <td>0.000</td>\n",
       "      <td>-0.3182</td>\n",
       "    </tr>\n",
       "    <tr>\n",
       "      <th>440</th>\n",
       "      <td>dell.html</td>\n",
       "      <td>2023-09-19</td>\n",
       "      <td>03:01AM</td>\n",
       "      <td>Dell Technologies shares rise after Daiwa anal...</td>\n",
       "      <td>0.000</td>\n",
       "      <td>0.784</td>\n",
       "      <td>0.216</td>\n",
       "      <td>0.2960</td>\n",
       "    </tr>\n",
       "    <tr>\n",
       "      <th>441</th>\n",
       "      <td>dell.html</td>\n",
       "      <td>2023-09-19</td>\n",
       "      <td>01:45AM</td>\n",
       "      <td>Dell a buy  on AI and bolstered demand: 5 big ...</td>\n",
       "      <td>0.143</td>\n",
       "      <td>0.857</td>\n",
       "      <td>0.000</td>\n",
       "      <td>-0.1280</td>\n",
       "    </tr>\n",
       "    <tr>\n",
       "      <th>806</th>\n",
       "      <td>MSFT.html</td>\n",
       "      <td>2023-09-19</td>\n",
       "      <td>07:00PM</td>\n",
       "      <td>Leaked Microsoft Docs Reveal its 'Hybrid' Clou...</td>\n",
       "      <td>0.209</td>\n",
       "      <td>0.545</td>\n",
       "      <td>0.245</td>\n",
       "      <td>0.1027</td>\n",
       "    </tr>\n",
       "    <tr>\n",
       "      <th>807</th>\n",
       "      <td>MSFT.html</td>\n",
       "      <td>2023-09-19</td>\n",
       "      <td>05:25PM</td>\n",
       "      <td>'Magnificent Seven' investing playbook: Micros...</td>\n",
       "      <td>0.000</td>\n",
       "      <td>0.769</td>\n",
       "      <td>0.231</td>\n",
       "      <td>0.5994</td>\n",
       "    </tr>\n",
       "    <tr>\n",
       "      <th>808</th>\n",
       "      <td>MSFT.html</td>\n",
       "      <td>2023-09-19</td>\n",
       "      <td>05:25PM</td>\n",
       "      <td>'Magnificent Seven' investing playbook: Micros...</td>\n",
       "      <td>0.000</td>\n",
       "      <td>0.755</td>\n",
       "      <td>0.245</td>\n",
       "      <td>0.5994</td>\n",
       "    </tr>\n",
       "    <tr>\n",
       "      <th>809</th>\n",
       "      <td>MSFT.html</td>\n",
       "      <td>2023-09-19</td>\n",
       "      <td>04:46PM</td>\n",
       "      <td>'Magnificent Seven' playbook: Microsoft's outl...</td>\n",
       "      <td>0.000</td>\n",
       "      <td>0.642</td>\n",
       "      <td>0.358</td>\n",
       "      <td>0.5994</td>\n",
       "    </tr>\n",
       "    <tr>\n",
       "      <th>810</th>\n",
       "      <td>MSFT.html</td>\n",
       "      <td>2023-09-19</td>\n",
       "      <td>04:16PM</td>\n",
       "      <td>Amazon is making major moves right before its ...</td>\n",
       "      <td>0.000</td>\n",
       "      <td>0.855</td>\n",
       "      <td>0.145</td>\n",
       "      <td>0.1779</td>\n",
       "    </tr>\n",
       "    <tr>\n",
       "      <th>811</th>\n",
       "      <td>MSFT.html</td>\n",
       "      <td>2023-09-19</td>\n",
       "      <td>04:12PM</td>\n",
       "      <td>Buy Microsoft Stock, Analyst Says. AI Will Gen...</td>\n",
       "      <td>0.000</td>\n",
       "      <td>0.756</td>\n",
       "      <td>0.244</td>\n",
       "      <td>0.4404</td>\n",
       "    </tr>\n",
       "    <tr>\n",
       "      <th>812</th>\n",
       "      <td>MSFT.html</td>\n",
       "      <td>2023-09-19</td>\n",
       "      <td>02:40PM</td>\n",
       "      <td>Bond Yields Rise as Fed-Peak Debate Gains Trac...</td>\n",
       "      <td>0.000</td>\n",
       "      <td>0.789</td>\n",
       "      <td>0.211</td>\n",
       "      <td>0.3400</td>\n",
       "    </tr>\n",
       "    <tr>\n",
       "      <th>813</th>\n",
       "      <td>MSFT.html</td>\n",
       "      <td>2023-09-19</td>\n",
       "      <td>12:52PM</td>\n",
       "      <td>Intel Says Every PC Will Soon Be Capable of Ru...</td>\n",
       "      <td>0.000</td>\n",
       "      <td>0.809</td>\n",
       "      <td>0.191</td>\n",
       "      <td>0.3818</td>\n",
       "    </tr>\n",
       "    <tr>\n",
       "      <th>814</th>\n",
       "      <td>MSFT.html</td>\n",
       "      <td>2023-09-19</td>\n",
       "      <td>12:42PM</td>\n",
       "      <td>US STOCKS-Wall St slides as Treasury yields fi...</td>\n",
       "      <td>0.000</td>\n",
       "      <td>0.870</td>\n",
       "      <td>0.130</td>\n",
       "      <td>0.2023</td>\n",
       "    </tr>\n",
       "    <tr>\n",
       "      <th>815</th>\n",
       "      <td>MSFT.html</td>\n",
       "      <td>2023-09-19</td>\n",
       "      <td>12:38PM</td>\n",
       "      <td>Microsoft AI researchers accidentally leak 38T...</td>\n",
       "      <td>0.407</td>\n",
       "      <td>0.593</td>\n",
       "      <td>0.000</td>\n",
       "      <td>-0.5859</td>\n",
       "    </tr>\n",
       "    <tr>\n",
       "      <th>816</th>\n",
       "      <td>MSFT.html</td>\n",
       "      <td>2023-09-19</td>\n",
       "      <td>12:16PM</td>\n",
       "      <td>Microsoft raises dividend payout by 10%, marki...</td>\n",
       "      <td>0.000</td>\n",
       "      <td>1.000</td>\n",
       "      <td>0.000</td>\n",
       "      <td>0.0000</td>\n",
       "    </tr>\n",
       "    <tr>\n",
       "      <th>817</th>\n",
       "      <td>MSFT.html</td>\n",
       "      <td>2023-09-19</td>\n",
       "      <td>12:16PM</td>\n",
       "      <td>Microsofts massive Xbox leak is an error for t...</td>\n",
       "      <td>0.389</td>\n",
       "      <td>0.611</td>\n",
       "      <td>0.000</td>\n",
       "      <td>-0.6249</td>\n",
       "    </tr>\n",
       "    <tr>\n",
       "      <th>818</th>\n",
       "      <td>MSFT.html</td>\n",
       "      <td>2023-09-19</td>\n",
       "      <td>11:36AM</td>\n",
       "      <td>Microsoft Boosts Quarterly  Dividend 10% to 75...</td>\n",
       "      <td>0.000</td>\n",
       "      <td>0.753</td>\n",
       "      <td>0.247</td>\n",
       "      <td>0.3182</td>\n",
       "    </tr>\n",
       "    <tr>\n",
       "      <th>820</th>\n",
       "      <td>QUBT.html</td>\n",
       "      <td>2023-09-19</td>\n",
       "      <td>08:00AM</td>\n",
       "      <td>Quantum Computing Inc. Federal Subsidiary, Qi ...</td>\n",
       "      <td>0.000</td>\n",
       "      <td>0.714</td>\n",
       "      <td>0.286</td>\n",
       "      <td>0.7650</td>\n",
       "    </tr>\n",
       "  </tbody>\n",
       "</table>\n",
       "</div>"
      ],
      "text/plain": [
       "        ticker        date     time  \\\n",
       "25   AT&T.html  2023-09-19  05:11PM   \n",
       "26   AT&T.html  2023-09-19  11:47AM   \n",
       "27   AT&T.html  2023-09-19  01:00AM   \n",
       "28   AT&T.html  2023-09-19  12:31AM   \n",
       "219    CI.html  2023-09-19  06:15PM   \n",
       "319        CTS  2023-09-19  09:00AM   \n",
       "431  dell.html  2023-09-19  01:47PM   \n",
       "432  dell.html  2023-09-19  12:52PM   \n",
       "433  dell.html  2023-09-19  12:50PM   \n",
       "434  dell.html  2023-09-19  11:30AM   \n",
       "435  dell.html  2023-09-19  11:21AM   \n",
       "436  dell.html  2023-09-19  10:00AM   \n",
       "437  dell.html  2023-09-19  09:31AM   \n",
       "438  dell.html  2023-09-19  08:34AM   \n",
       "439  dell.html  2023-09-19  08:32AM   \n",
       "440  dell.html  2023-09-19  03:01AM   \n",
       "441  dell.html  2023-09-19  01:45AM   \n",
       "806  MSFT.html  2023-09-19  07:00PM   \n",
       "807  MSFT.html  2023-09-19  05:25PM   \n",
       "808  MSFT.html  2023-09-19  05:25PM   \n",
       "809  MSFT.html  2023-09-19  04:46PM   \n",
       "810  MSFT.html  2023-09-19  04:16PM   \n",
       "811  MSFT.html  2023-09-19  04:12PM   \n",
       "812  MSFT.html  2023-09-19  02:40PM   \n",
       "813  MSFT.html  2023-09-19  12:52PM   \n",
       "814  MSFT.html  2023-09-19  12:42PM   \n",
       "815  MSFT.html  2023-09-19  12:38PM   \n",
       "816  MSFT.html  2023-09-19  12:16PM   \n",
       "817  MSFT.html  2023-09-19  12:16PM   \n",
       "818  MSFT.html  2023-09-19  11:36AM   \n",
       "820  QUBT.html  2023-09-19  08:00AM   \n",
       "\n",
       "                                              headline    neg    neu    pos  \\\n",
       "25   Perini Management Services, Inc. Awarded $47 M...  0.000  0.856  0.144   \n",
       "26   Lawyer who helped break up AT&T says DOJ has '...  0.000  0.805  0.195   \n",
       "27   Apple iPhone 15 Deals Are Out. What They Mean ...  0.000  1.000  0.000   \n",
       "28   Apple iPhone 15 launch sees major carriers off...  0.000  1.000  0.000   \n",
       "219  Cigna (CI) Dips More Than Broader Markets: Wha...  0.000  1.000  0.000   \n",
       "319  Sidoti Events, LLCs Virtual September Small-Ca...  0.000  1.000  0.000   \n",
       "431  SentinelOne (S), Mandiant Team Up to Strengthe...  0.000  0.753  0.247   \n",
       "432  Intel Says Every PC Will Soon Be Capable of Ru...  0.000  0.809  0.191   \n",
       "433  Dell Stock Gets an Upgrade as Demand Gets Stro...  0.135  0.631  0.234   \n",
       "434  AMD Expands Fourth-Gen EPYC CPU Portfolio With...  0.000  0.851  0.149   \n",
       "435  Apple's (AAPL) Prospects Shine on iPhone 15 Pr...  0.128  0.684  0.188   \n",
       "436  Dell upgraded, Starbucks downgraded: Wall Stre...  0.000  0.816  0.184   \n",
       "437  Midday movers: Instacart, AutoZone, Target and...  0.000  1.000  0.000   \n",
       "438  The Zacks Analyst Blog Highlights Caterpillar,...  0.000  1.000  0.000   \n",
       "439  Stocks Struggle as $95 Oil Adds to Rate Concer...  0.187  0.813  0.000   \n",
       "440  Dell Technologies shares rise after Daiwa anal...  0.000  0.784  0.216   \n",
       "441  Dell a buy  on AI and bolstered demand: 5 big ...  0.143  0.857  0.000   \n",
       "806  Leaked Microsoft Docs Reveal its 'Hybrid' Clou...  0.209  0.545  0.245   \n",
       "807  'Magnificent Seven' investing playbook: Micros...  0.000  0.769  0.231   \n",
       "808  'Magnificent Seven' investing playbook: Micros...  0.000  0.755  0.245   \n",
       "809  'Magnificent Seven' playbook: Microsoft's outl...  0.000  0.642  0.358   \n",
       "810  Amazon is making major moves right before its ...  0.000  0.855  0.145   \n",
       "811  Buy Microsoft Stock, Analyst Says. AI Will Gen...  0.000  0.756  0.244   \n",
       "812  Bond Yields Rise as Fed-Peak Debate Gains Trac...  0.000  0.789  0.211   \n",
       "813  Intel Says Every PC Will Soon Be Capable of Ru...  0.000  0.809  0.191   \n",
       "814  US STOCKS-Wall St slides as Treasury yields fi...  0.000  0.870  0.130   \n",
       "815  Microsoft AI researchers accidentally leak 38T...  0.407  0.593  0.000   \n",
       "816  Microsoft raises dividend payout by 10%, marki...  0.000  1.000  0.000   \n",
       "817  Microsofts massive Xbox leak is an error for t...  0.389  0.611  0.000   \n",
       "818  Microsoft Boosts Quarterly  Dividend 10% to 75...  0.000  0.753  0.247   \n",
       "820  Quantum Computing Inc. Federal Subsidiary, Qi ...  0.000  0.714  0.286   \n",
       "\n",
       "     compound  \n",
       "25     0.4019  \n",
       "26     0.5267  \n",
       "27     0.0000  \n",
       "28     0.0000  \n",
       "219    0.0000  \n",
       "319    0.0000  \n",
       "431    0.3182  \n",
       "432    0.3818  \n",
       "433    0.2732  \n",
       "434    0.1027  \n",
       "435    0.1779  \n",
       "436    0.2023  \n",
       "437    0.0000  \n",
       "438    0.0000  \n",
       "439   -0.3182  \n",
       "440    0.2960  \n",
       "441   -0.1280  \n",
       "806    0.1027  \n",
       "807    0.5994  \n",
       "808    0.5994  \n",
       "809    0.5994  \n",
       "810    0.1779  \n",
       "811    0.4404  \n",
       "812    0.3400  \n",
       "813    0.3818  \n",
       "814    0.2023  \n",
       "815   -0.5859  \n",
       "816    0.0000  \n",
       "817   -0.6249  \n",
       "818    0.3182  \n",
       "820    0.7650  "
      ]
     },
     "execution_count": 141,
     "metadata": {},
     "output_type": "execute_result"
    }
   ],
   "source": [
    "scored_news_clean[scored_news_clean['date'] == \"2023-09-19\"]"
   ]
  },
  {
   "cell_type": "code",
   "execution_count": 142,
   "metadata": {},
   "outputs": [
    {
     "data": {
      "text/plain": [
       "tsla         286\n",
       "fb           190\n",
       "dell.html    100\n",
       "YETI.html     98\n",
       "CAPR.html     97\n",
       "MSFT.html     97\n",
       "QUBT.html     96\n",
       "AT&T.html     93\n",
       "CI.html       92\n",
       "CTS           92\n",
       "SYM.html      71\n",
       "AAAU.html     19\n",
       "Name: ticker, dtype: int64"
      ]
     },
     "execution_count": 142,
     "metadata": {},
     "output_type": "execute_result"
    }
   ],
   "source": [
    "scored_news_clean.ticker.value_counts()"
   ]
  },
  {
   "cell_type": "code",
   "execution_count": 151,
   "metadata": {},
   "outputs": [
    {
     "data": {
      "text/html": [
       "<div>\n",
       "<style scoped>\n",
       "    .dataframe tbody tr th:only-of-type {\n",
       "        vertical-align: middle;\n",
       "    }\n",
       "\n",
       "    .dataframe tbody tr th {\n",
       "        vertical-align: top;\n",
       "    }\n",
       "\n",
       "    .dataframe thead th {\n",
       "        text-align: right;\n",
       "    }\n",
       "</style>\n",
       "<table border=\"1\" class=\"dataframe\">\n",
       "  <thead>\n",
       "    <tr style=\"text-align: right;\">\n",
       "      <th></th>\n",
       "      <th></th>\n",
       "      <th>time</th>\n",
       "      <th>headline</th>\n",
       "      <th>neg</th>\n",
       "      <th>neu</th>\n",
       "      <th>pos</th>\n",
       "      <th>compound</th>\n",
       "    </tr>\n",
       "    <tr>\n",
       "      <th>ticker</th>\n",
       "      <th>date</th>\n",
       "      <th></th>\n",
       "      <th></th>\n",
       "      <th></th>\n",
       "      <th></th>\n",
       "      <th></th>\n",
       "      <th></th>\n",
       "    </tr>\n",
       "  </thead>\n",
       "  <tbody>\n",
       "    <tr>\n",
       "      <th rowspan=\"5\" valign=\"top\">AAAU.html</th>\n",
       "      <th>2022-08-18</th>\n",
       "      <td>01:40PM</td>\n",
       "      <td>Best Gold ETFs for Q4 2022</td>\n",
       "      <td>0.0</td>\n",
       "      <td>0.543</td>\n",
       "      <td>0.457</td>\n",
       "      <td>0.6369</td>\n",
       "    </tr>\n",
       "    <tr>\n",
       "      <th>2022-01-19</th>\n",
       "      <td>05:50PM</td>\n",
       "      <td>Goldman Sachs Asset Management Announces Trans...</td>\n",
       "      <td>0.0</td>\n",
       "      <td>0.872</td>\n",
       "      <td>0.128</td>\n",
       "      <td>0.3612</td>\n",
       "    </tr>\n",
       "    <tr>\n",
       "      <th>2020-12-14</th>\n",
       "      <td>01:30PM</td>\n",
       "      <td>Goldman Takes Over Gold ETF</td>\n",
       "      <td>0.0</td>\n",
       "      <td>1.000</td>\n",
       "      <td>0.000</td>\n",
       "      <td>0.0000</td>\n",
       "    </tr>\n",
       "    <tr>\n",
       "      <th>2020-12-14</th>\n",
       "      <td>08:00AM</td>\n",
       "      <td>Goldman Sachs Asset Management Announces Addit...</td>\n",
       "      <td>0.0</td>\n",
       "      <td>0.865</td>\n",
       "      <td>0.135</td>\n",
       "      <td>0.3612</td>\n",
       "    </tr>\n",
       "    <tr>\n",
       "      <th>2020-08-11</th>\n",
       "      <td>01:14PM</td>\n",
       "      <td>Best Precious Metals ETFs for Q4 2020</td>\n",
       "      <td>0.0</td>\n",
       "      <td>0.388</td>\n",
       "      <td>0.612</td>\n",
       "      <td>0.8360</td>\n",
       "    </tr>\n",
       "  </tbody>\n",
       "</table>\n",
       "</div>"
      ],
      "text/plain": [
       "                         time  \\\n",
       "ticker    date                  \n",
       "AAAU.html 2022-08-18  01:40PM   \n",
       "          2022-01-19  05:50PM   \n",
       "          2020-12-14  01:30PM   \n",
       "          2020-12-14  08:00AM   \n",
       "          2020-08-11  01:14PM   \n",
       "\n",
       "                                                               headline  neg  \\\n",
       "ticker    date                                                                 \n",
       "AAAU.html 2022-08-18                         Best Gold ETFs for Q4 2022  0.0   \n",
       "          2022-01-19  Goldman Sachs Asset Management Announces Trans...  0.0   \n",
       "          2020-12-14                        Goldman Takes Over Gold ETF  0.0   \n",
       "          2020-12-14  Goldman Sachs Asset Management Announces Addit...  0.0   \n",
       "          2020-08-11              Best Precious Metals ETFs for Q4 2020  0.0   \n",
       "\n",
       "                        neu    pos  compound  \n",
       "ticker    date                                \n",
       "AAAU.html 2022-08-18  0.543  0.457    0.6369  \n",
       "          2022-01-19  0.872  0.128    0.3612  \n",
       "          2020-12-14  1.000  0.000    0.0000  \n",
       "          2020-12-14  0.865  0.135    0.3612  \n",
       "          2020-08-11  0.388  0.612    0.8360  "
      ]
     },
     "execution_count": 151,
     "metadata": {},
     "output_type": "execute_result"
    }
   ],
   "source": [
    "single_day = scored_news_clean.set_index(['ticker', 'date'])\n",
    "single_day.head()"
   ]
  },
  {
   "cell_type": "code",
   "execution_count": 155,
   "metadata": {},
   "outputs": [
    {
     "name": "stdout",
     "output_type": "stream",
     "text": [
      "Enter the stock name: AAAU.html\n",
      "Enter the date (yyyy-mm-dd): 2020-12-14\n",
      "Stock Name: AAAU.html\n",
      "Date: 2020-12-14\n"
     ]
    }
   ],
   "source": [
    "# Take user input for stock_name and date\n",
    "stock_name = input(\"Enter the stock name: \")\n",
    "S_date = input(\"Enter the date (yyyy-mm-dd): \")\n",
    "# Display the user inputs\n",
    "print(\"Stock Name:\", stock_name)\n",
    "print(\"Date:\", S_date)\n"
   ]
  },
  {
   "cell_type": "markdown",
   "metadata": {
    "dc": {
     "key": "52"
    },
    "deletable": false,
    "editable": false,
    "run_control": {
     "frozen": true
    },
    "tags": [
     "context"
    ]
   },
   "source": [
    "## 8. Sentiment on one single trading day and stock\n",
    "<p>Just to understand the possibilities of this dataset and get a better feel of the data, let's focus on one trading day and one single stock. We will make an informative plot where we will see the smallest grain possible: headline and subscores.</p>"
   ]
  },
  {
   "cell_type": "code",
   "execution_count": 157,
   "metadata": {},
   "outputs": [],
   "source": [
    "# Set the index to ticker and date\n",
    "single_day = scored_news_clean.set_index(['ticker', 'date'])\n",
    "\n",
    "# Cross-section the 'fb' row\n",
    "single_day = single_day.xs(stock_name, drop_level=False)  # Use drop_level=False to keep the 'ticker' level in the index\n",
    "\n",
    "# Specify the date you want to select\n",
    "selected_date =S_date\n",
    "\n",
    "if selected_date in single_day.index.get_level_values('date'):\n",
    "    # Select rows with the specified date\n",
    "    single_day = single_day.loc[(slice(None), selected_date), :]\n",
    "\n",
    "    # Convert the 'time' column to datetime.time objects\n",
    "    single_day['time'] = pd.to_datetime(single_day['time']).dt.time\n",
    "\n",
    "    # Set 'time' as the new index\n",
    "    single_day = single_day.set_index('time')\n",
    "\n",
    "    # Sort the DataFrame by the new index\n",
    "    single_day = single_day.sort_index()\n",
    "else:\n",
    "    # Handle the case when the date is not found\n",
    "    print(f\"Date '{selected_date}' not found in the index. No data available for this date and stock.\")\n"
   ]
  },
  {
   "cell_type": "markdown",
   "metadata": {
    "dc": {
     "key": "59"
    },
    "deletable": false,
    "editable": false,
    "run_control": {
     "frozen": true
    },
    "tags": [
     "context"
    ]
   },
   "source": [
    "## 9. Visualize the single day\n",
    "<p>We will make a plot to visualize the positive, negative and neutral scores for a single day of trading and a single stock. This is just one of the many ways to visualize this dataset.</p>"
   ]
  },
  {
   "cell_type": "code",
   "execution_count": 170,
   "metadata": {},
   "outputs": [
    {
     "data": {
      "image/png": "[encoded data removed]",
      "text/plain": [
       "<Figure size 1000x600 with 1 Axes>"
      ]
     },
     "metadata": {},
     "output_type": "display_data"
    }
   ],
   "source": [
    "TITLE = \"Negative, neutral, and positive sentiment for FB on 2020-12-14\"\n",
    "COLORS = [\"red\",\"orange\", \"green\"]\n",
    "\n",
    "# Drop the columns that aren't useful for the plot\n",
    "plot_day = single_day.drop(['compound', 'headline'], 1)\n",
    "\n",
    "# Change the column names to 'negative', 'positive', and 'neutral'\n",
    "plot_day.columns = ['negative', 'neutral', 'positive']\n",
    "\n",
    "# Plot a stacked bar chart\n",
    "import matplotlib.pyplot as plt\n",
    "\n",
    "# Define the title and colors\n",
    "\n",
    "TITLE=\"Negative, neutral, and positive sentiment of stock/company \" + stock_name+\" \" +\"On \"+ S_date\n",
    "\n",
    "COLORS = [\"red\", \"orange\", \"green\"]\n",
    "\n",
    "# Create a stacked bar plot\n",
    "ax = plot_day.plot(kind='bar', stacked=True, figsize=(10, 6), colormap='viridis')\n",
    "plt.title(TITLE)\n",
    "plt.xlabel('Time')\n",
    "plt.ylabel('Scores')\n",
    "\n",
    "# Customize the legend location\n",
    "plt.legend(loc='upper right', bbox_to_anchor=(1.2, 0.5))\n",
    "\n",
    "# Show the plot\n",
    "plt.show()"
   ]
  },
  {
   "cell_type": "code",
   "execution_count": null,
   "metadata": {},
   "outputs": [],
   "source": []
  }
 ],
 "metadata": {
  "kernelspec": {
   "display_name": "Python 3 (ipykernel)",
   "language": "python",
   "name": "python3"
  },
  "language_info": {
   "codemirror_mode": {
    "name": "ipython",
    "version": 3
   },
   "file_extension": ".py",
   "mimetype": "text/x-python",
   "name": "python",
   "nbconvert_exporter": "python",
   "pygments_lexer": "ipython3",
   "version": "3.10.9"
  }
 },
 "nbformat": 4,
 "nbformat_minor": 2
}

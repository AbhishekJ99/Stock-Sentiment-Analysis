{
 "cells": [
  {
   "cell_type": "markdown",
   "id": "7ff82cac",
   "metadata": {},
   "source": [
    "## 1. Searching for inside HTML files"
   ]
  },
  {
   "cell_type": "code",
   "execution_count": 1,
   "id": "5119cf87",
   "metadata": {},
   "outputs": [],
   "source": [
    "# Import libraries\n",
    "import warnings\n",
    "warnings.filterwarnings(\"ignore\")\n",
    "from bs4 import BeautifulSoup\n",
    "import os\n",
    "\n",
    "html_tables = {}\n",
    "\n",
    "# For every table in the datasets folder...\n",
    "for table_name in os.listdir('datasets'):\n",
    "    table_path = f'datasets/{table_name}'\n",
    "    # Open as a python file in read-only mode\n",
    "    table_file = open(table_path, 'r')\n",
    "    # Read the contents of the file into 'html'\n",
    "    html = BeautifulSoup(table_file)\n",
    "    # Find 'news-table' in the Soup and load it into 'html_table'\n",
    "    html_table = html.find(id='news-table')\n",
    "    # Add the table to our dictionary\n",
    "    html_tables[table_name] = html_table"
   ]
  },
  {
   "cell_type": "markdown",
   "id": "a38768e9",
   "metadata": {},
   "source": [
    "## 2. What is inside those files anyway?"
   ]
  },
  {
   "cell_type": "code",
   "execution_count": 2,
   "id": "0d90c032",
   "metadata": {},
   "outputs": [
    {
     "name": "stdout",
     "output_type": "stream",
     "text": [
      "File number 1:\n",
      "Sidoti Events, LLCs Virtual September Small-Cap Conference\n",
      "\n",
      "            Sep-19-23 09:00AM\n",
      "        \n",
      "File number 2:\n",
      "CTS Corporation to Participate in Sidoti Virtual Investor Conference\n",
      "\n",
      "            Sep-15-23 09:37AM\n",
      "        \n",
      "File number 3:\n",
      "CTS Corporation Declares a Dividend\n",
      "\n",
      "            Aug-17-23 04:15PM\n",
      "        \n",
      "File number 4:\n",
      "Should You Be Confident in CTS Corporation (CTS)s Market Share Position?\n",
      "\n",
      "            Aug-03-23 10:24AM\n",
      "        \n"
     ]
    }
   ],
   "source": [
    "# Read one single day of headlines \n",
    "tsla = html_tables['CTS_20230923.html']\n",
    "# Get all the table rows tagged in HTML with <tr> into 'tesla_tr'\n",
    "tsla_tr = tsla.findAll('tr')\n",
    "\n",
    "# For each row...\n",
    "for i, table_row in enumerate(tsla_tr):\n",
    "    # Read the text of the element 'a' into 'link_text'\n",
    "    link_text = table_row.a.get_text()\n",
    "    # Read the text of the element 'td' into 'data_text'\n",
    "    data_text = table_row.td.get_text()\n",
    "    # Print the count\n",
    "    print(f'File number {i+1}:')\n",
    "    # Print the contents of 'link_text' and 'data_text' \n",
    "    print(link_text)\n",
    "    print(data_text)\n",
    "    if i == 3:\n",
    "        break"
   ]
  },
  {
   "cell_type": "markdown",
   "id": "4b6fef0b",
   "metadata": {},
   "source": [
    "## 3.  Extract the news headlines"
   ]
  },
  {
   "cell_type": "code",
   "execution_count": 3,
   "id": "9f058a51",
   "metadata": {},
   "outputs": [],
   "source": [
    "# Hold the parsed news into a list\n",
    "parsed_news = []\n",
    "# Iterate through the news\n",
    "for file_name, news_table in html_tables.items():\n",
    "    # Iterate through all tr tags in 'news_table'\n",
    "    for x in news_table.findAll('tr'):\n",
    "        # Read the text from the tr tag into text\n",
    "        text = x.get_text() \n",
    "        # Split the /text in the td tag into a list \n",
    "        date_scrape = x.td.text.split()\n",
    "        # If the length of 'date_scrape' is 1, load 'time' as the only element\n",
    "        # If not, load 'date' as the 1st element and 'time' as the second\n",
    "        if len(date_scrape) == 1:\n",
    "            time = date_scrape[0]\n",
    "        else:\n",
    "            date = date_scrape[0]\n",
    "            time = date_scrape[1]\n",
    "\n",
    "        # Extract the ticker from the file name, get the string up to the 1st '_'  \n",
    "        ticker = file_name.split(\"_\")[0]\n",
    "        # Append ticker, date, time and headline as a list to the 'parsed_news' list\n",
    "        parsed_news.append([ticker, date, time, x.a.text])"
   ]
  },
  {
   "cell_type": "markdown",
   "id": "156fc579",
   "metadata": {},
   "source": [
    "## 4. Make NLTK "
   ]
  },
  {
   "cell_type": "code",
   "execution_count": 4,
   "id": "b84d7581",
   "metadata": {},
   "outputs": [],
   "source": [
    "import nltk\n",
    "#nltk.download('vader_lexicon')\n",
    "# NLTK VADER for sentiment analysis\n",
    "from nltk.sentiment.vader import SentimentIntensityAnalyzer\n",
    "\n",
    "# New words and values\n",
    "new_words = {\n",
    "    'crushes': 10,\n",
    "    'beats': 5,\n",
    "    'misses': -5,\n",
    "    'trouble': -10,\n",
    "    'falls': -100,\n",
    "}\n",
    "\n",
    "# Instantiate the sentiment intensity analyzer with the existing lexicon\n",
    "vader = SentimentIntensityAnalyzer()\n",
    "\n",
    "# Update the lexicon\n",
    "vader.lexicon.update(new_words)"
   ]
  },
  {
   "cell_type": "markdown",
   "id": "1b7a27ad",
   "metadata": {},
   "source": [
    "## 5. NLTK  Sentiment Estimates\n"
   ]
  },
  {
   "cell_type": "code",
   "execution_count": 5,
   "id": "82180a87",
   "metadata": {},
   "outputs": [],
   "source": [
    "import pandas as pd\n",
    "\n",
    "# Use these column names\n",
    "columns = ['ticker', 'date', 'time', 'headline']\n",
    "\n",
    "# Convert the list of lists into a DataFrame\n",
    "scored_news = pd.DataFrame(parsed_news, columns=columns)\n",
    "\n",
    "# Iterate through the headlines and get the polarity scores\n",
    "scores = [vader.polarity_scores(head) for head in scored_news.headline]\n",
    "\n",
    "# Convert the list of dicts into a DataFrame\n",
    "scores_df = pd.DataFrame(scores)\n",
    "\n",
    "# Join the DataFrames\n",
    "scored_news = scored_news.join(scores_df)\n",
    "\n",
    "# Convert the date column from string to datetime\n",
    "scored_news['date'] = pd.to_datetime(scored_news.date).dt.date"
   ]
  },
  {
   "cell_type": "markdown",
   "id": "7e55d065",
   "metadata": {},
   "source": [
    "## EDA handing duplicates"
   ]
  },
  {
   "cell_type": "code",
   "execution_count": 6,
   "id": "7fdb7efd",
   "metadata": {},
   "outputs": [
    {
     "data": {
      "text/plain": [
       "'Before we had 3719 headlines, now we have 3504'"
      ]
     },
     "execution_count": 6,
     "metadata": {},
     "output_type": "execute_result"
    }
   ],
   "source": [
    "# Count the number of headlines in scored_news (store as integer)\n",
    "num_news_before = scored_news.headline.count()\n",
    "\n",
    "# Drop duplicates based on ticker and headline\n",
    "scored_news_clean = scored_news.drop_duplicates(subset= ['headline', 'ticker'])\n",
    "\n",
    "# Count number of headlines after dropping duplicates\n",
    "num_news_after = scored_news_clean.headline.count()\n",
    "\n",
    "# Print before and after numbers to get an idea of how we did \n",
    "f\"Before we had {num_news_before} headlines, now we have {num_news_after}\""
   ]
  },
  {
   "cell_type": "code",
   "execution_count": 7,
   "id": "95f532de",
   "metadata": {},
   "outputs": [
    {
     "data": {
      "text/plain": [
       "0"
      ]
     },
     "execution_count": 7,
     "metadata": {},
     "output_type": "execute_result"
    }
   ],
   "source": [
    "scored_news_clean.headline.isnull().sum()"
   ]
  },
  {
   "cell_type": "code",
   "execution_count": 8,
   "id": "d62a4573",
   "metadata": {},
   "outputs": [],
   "source": [
    "import pandas as pd\n",
    "df = scored_news_clean\n",
    "# Convert the 'date' column to string\n",
    "df['date'] = df['date'].astype(str)"
   ]
  },
  {
   "cell_type": "code",
   "execution_count": 9,
   "id": "daf355a1",
   "metadata": {},
   "outputs": [
    {
     "data": {
      "text/html": [
       "<div>\n",
       "<style scoped>\n",
       "    .dataframe tbody tr th:only-of-type {\n",
       "        vertical-align: middle;\n",
       "    }\n",
       "\n",
       "    .dataframe tbody tr th {\n",
       "        vertical-align: top;\n",
       "    }\n",
       "\n",
       "    .dataframe thead th {\n",
       "        text-align: right;\n",
       "    }\n",
       "</style>\n",
       "<table border=\"1\" class=\"dataframe\">\n",
       "  <thead>\n",
       "    <tr style=\"text-align: right;\">\n",
       "      <th></th>\n",
       "      <th>ticker</th>\n",
       "      <th>date</th>\n",
       "      <th>time</th>\n",
       "      <th>headline</th>\n",
       "      <th>neg</th>\n",
       "      <th>neu</th>\n",
       "      <th>pos</th>\n",
       "      <th>compound</th>\n",
       "    </tr>\n",
       "  </thead>\n",
       "  <tbody>\n",
       "    <tr>\n",
       "      <th>0</th>\n",
       "      <td>AAAU.html</td>\n",
       "      <td>2022-08-18</td>\n",
       "      <td>01:40PM</td>\n",
       "      <td>Best Gold ETFs for Q4 2022</td>\n",
       "      <td>0.0</td>\n",
       "      <td>0.543</td>\n",
       "      <td>0.457</td>\n",
       "      <td>0.6369</td>\n",
       "    </tr>\n",
       "    <tr>\n",
       "      <th>1</th>\n",
       "      <td>AAAU.html</td>\n",
       "      <td>2022-01-19</td>\n",
       "      <td>05:50PM</td>\n",
       "      <td>Goldman Sachs Asset Management Announces Trans...</td>\n",
       "      <td>0.0</td>\n",
       "      <td>0.872</td>\n",
       "      <td>0.128</td>\n",
       "      <td>0.3612</td>\n",
       "    </tr>\n",
       "    <tr>\n",
       "      <th>2</th>\n",
       "      <td>AAAU.html</td>\n",
       "      <td>2020-12-14</td>\n",
       "      <td>01:30PM</td>\n",
       "      <td>Goldman Takes Over Gold ETF</td>\n",
       "      <td>0.0</td>\n",
       "      <td>1.000</td>\n",
       "      <td>0.000</td>\n",
       "      <td>0.0000</td>\n",
       "    </tr>\n",
       "    <tr>\n",
       "      <th>3</th>\n",
       "      <td>AAAU.html</td>\n",
       "      <td>2020-12-14</td>\n",
       "      <td>08:00AM</td>\n",
       "      <td>Goldman Sachs Asset Management Announces Addit...</td>\n",
       "      <td>0.0</td>\n",
       "      <td>0.865</td>\n",
       "      <td>0.135</td>\n",
       "      <td>0.3612</td>\n",
       "    </tr>\n",
       "    <tr>\n",
       "      <th>4</th>\n",
       "      <td>AAAU.html</td>\n",
       "      <td>2020-08-11</td>\n",
       "      <td>01:14PM</td>\n",
       "      <td>Best Precious Metals ETFs for Q4 2020</td>\n",
       "      <td>0.0</td>\n",
       "      <td>0.388</td>\n",
       "      <td>0.612</td>\n",
       "      <td>0.8360</td>\n",
       "    </tr>\n",
       "  </tbody>\n",
       "</table>\n",
       "</div>"
      ],
      "text/plain": [
       "      ticker        date     time  \\\n",
       "0  AAAU.html  2022-08-18  01:40PM   \n",
       "1  AAAU.html  2022-01-19  05:50PM   \n",
       "2  AAAU.html  2020-12-14  01:30PM   \n",
       "3  AAAU.html  2020-12-14  08:00AM   \n",
       "4  AAAU.html  2020-08-11  01:14PM   \n",
       "\n",
       "                                            headline  neg    neu    pos  \\\n",
       "0                         Best Gold ETFs for Q4 2022  0.0  0.543  0.457   \n",
       "1  Goldman Sachs Asset Management Announces Trans...  0.0  0.872  0.128   \n",
       "2                        Goldman Takes Over Gold ETF  0.0  1.000  0.000   \n",
       "3  Goldman Sachs Asset Management Announces Addit...  0.0  0.865  0.135   \n",
       "4              Best Precious Metals ETFs for Q4 2020  0.0  0.388  0.612   \n",
       "\n",
       "   compound  \n",
       "0    0.6369  \n",
       "1    0.3612  \n",
       "2    0.0000  \n",
       "3    0.3612  \n",
       "4    0.8360  "
      ]
     },
     "execution_count": 9,
     "metadata": {},
     "output_type": "execute_result"
    }
   ],
   "source": [
    "scored_news_clean.head(5)"
   ]
  },
  {
   "cell_type": "code",
   "execution_count": 10,
   "id": "2813172e",
   "metadata": {},
   "outputs": [
    {
     "data": {
      "text/plain": [
       "tsla                                                                                  286\n",
       "fb                                                                                    190\n",
       "dell.html                                                                             100\n",
       "XAIR - Beyond Air, Inc. Stock Price and Quote.html                                     99\n",
       "F - Ford Motor Company Stock Price and Quote.html                                      99\n",
       "Z - Zillow Group, Inc. Stock Price and Quote.html                                      99\n",
       "V - Visa Inc. Stock Price and Quote.html                                               98\n",
       "YETI.html                                                                              98\n",
       "M - Macy's, Inc. Stock Price and Quote.html                                            97\n",
       "CAPR.html                                                                              97\n",
       "MSFT.html                                                                              97\n",
       "EA - Electronic Arts Inc. Stock Price and Quote.html                                   97\n",
       "J - Jacobs Solutions Inc. Stock Price and Quote.html                                   96\n",
       "S - SentinelOne, Inc. Stock Price and Quote.html                                       96\n",
       "QUBT.html                                                                              96\n",
       "YALA - Yalla Group Limited Stock Price and Quote.html                                  96\n",
       "C - Citigroup Inc. Stock Price and Quote.html                                          96\n",
       "O - Realty Income Corporation Stock Price and Quote.html                               95\n",
       "U - Unity Software Inc. Stock Price and Quote.html                                     95\n",
       "R - Ryder System, Inc. Stock Price and Quote.html                                      94\n",
       "T - AT&T Inc. Stock Price and Quote.html                                               93\n",
       "H - Hyatt Hotels Corporation Stock Price and Quote.html                                93\n",
       "AT&T.html                                                                              93\n",
       "D - Dominion Energy, Inc. Stock Price and Quote.html                                   92\n",
       "CTS                                                                                    92\n",
       "CI.html                                                                                92\n",
       "W - Wayfair Inc. Stock Price and Quote.html                                            91\n",
       "PAA - Plains All American Pipeline, L.P. Stock Price and Quote.html                    91\n",
       "B - Barnes Group Inc. Stock Price and Quote.html                                       91\n",
       "IAC - IAC                                                                              90\n",
       "QABA - First Trust NASDAQ ABA Community Bank Index Fund Stock Price and Quote.html     79\n",
       "SYM.html                                                                               71\n",
       "GAB - The Gabelli Equity Trust Inc. Stock Price and Quote.html                         69\n",
       "LAB - Standard BioTools Inc. Stock Price and Quote.html                                48\n",
       "NA - Nano Labs Ltd Stock Price and Quote.html                                          31\n",
       "KA - Kineta, Inc. Stock Price and Quote.html                                           25\n",
       "AAAU.html                                                                              19\n",
       "AACI - Armada Acquisition Corp. I Stock Price and Quote.html                           16\n",
       "ZAPP - Zapp Electric Vehicles Group Limited Stock Price and Quote.html                  7\n",
       "Name: ticker, dtype: int64"
      ]
     },
     "execution_count": 10,
     "metadata": {},
     "output_type": "execute_result"
    }
   ],
   "source": [
    "scored_news_clean.ticker.value_counts()"
   ]
  },
  {
   "cell_type": "code",
   "execution_count": 11,
   "id": "3040d65e",
   "metadata": {},
   "outputs": [
    {
     "data": {
      "text/html": [
       "<div>\n",
       "<style scoped>\n",
       "    .dataframe tbody tr th:only-of-type {\n",
       "        vertical-align: middle;\n",
       "    }\n",
       "\n",
       "    .dataframe tbody tr th {\n",
       "        vertical-align: top;\n",
       "    }\n",
       "\n",
       "    .dataframe thead th {\n",
       "        text-align: right;\n",
       "    }\n",
       "</style>\n",
       "<table border=\"1\" class=\"dataframe\">\n",
       "  <thead>\n",
       "    <tr style=\"text-align: right;\">\n",
       "      <th></th>\n",
       "      <th></th>\n",
       "      <th>time</th>\n",
       "      <th>headline</th>\n",
       "      <th>neg</th>\n",
       "      <th>neu</th>\n",
       "      <th>pos</th>\n",
       "      <th>compound</th>\n",
       "    </tr>\n",
       "    <tr>\n",
       "      <th>ticker</th>\n",
       "      <th>date</th>\n",
       "      <th></th>\n",
       "      <th></th>\n",
       "      <th></th>\n",
       "      <th></th>\n",
       "      <th></th>\n",
       "      <th></th>\n",
       "    </tr>\n",
       "  </thead>\n",
       "  <tbody>\n",
       "    <tr>\n",
       "      <th rowspan=\"14\" valign=\"top\">AAAU.html</th>\n",
       "      <th>2022-08-18</th>\n",
       "      <td>01:40PM</td>\n",
       "      <td>Best Gold ETFs for Q4 2022</td>\n",
       "      <td>0.0</td>\n",
       "      <td>0.543</td>\n",
       "      <td>0.457</td>\n",
       "      <td>0.6369</td>\n",
       "    </tr>\n",
       "    <tr>\n",
       "      <th>2022-01-19</th>\n",
       "      <td>05:50PM</td>\n",
       "      <td>Goldman Sachs Asset Management Announces Trans...</td>\n",
       "      <td>0.0</td>\n",
       "      <td>0.872</td>\n",
       "      <td>0.128</td>\n",
       "      <td>0.3612</td>\n",
       "    </tr>\n",
       "    <tr>\n",
       "      <th>2020-12-14</th>\n",
       "      <td>01:30PM</td>\n",
       "      <td>Goldman Takes Over Gold ETF</td>\n",
       "      <td>0.0</td>\n",
       "      <td>1.000</td>\n",
       "      <td>0.000</td>\n",
       "      <td>0.0000</td>\n",
       "    </tr>\n",
       "    <tr>\n",
       "      <th>2020-12-14</th>\n",
       "      <td>08:00AM</td>\n",
       "      <td>Goldman Sachs Asset Management Announces Addit...</td>\n",
       "      <td>0.0</td>\n",
       "      <td>0.865</td>\n",
       "      <td>0.135</td>\n",
       "      <td>0.3612</td>\n",
       "    </tr>\n",
       "    <tr>\n",
       "      <th>2020-08-11</th>\n",
       "      <td>01:14PM</td>\n",
       "      <td>Best Precious Metals ETFs for Q4 2020</td>\n",
       "      <td>0.0</td>\n",
       "      <td>0.388</td>\n",
       "      <td>0.612</td>\n",
       "      <td>0.8360</td>\n",
       "    </tr>\n",
       "    <tr>\n",
       "      <th>2020-06-26</th>\n",
       "      <td>12:10PM</td>\n",
       "      <td>Gold Beats Stocks &amp; Bonds in 1H: ETFs to Play</td>\n",
       "      <td>0.0</td>\n",
       "      <td>0.455</td>\n",
       "      <td>0.545</td>\n",
       "      <td>0.8555</td>\n",
       "    </tr>\n",
       "    <tr>\n",
       "      <th>2020-05-18</th>\n",
       "      <td>12:08PM</td>\n",
       "      <td>What Are Some Safe Investment Options Right Now?</td>\n",
       "      <td>0.0</td>\n",
       "      <td>0.707</td>\n",
       "      <td>0.293</td>\n",
       "      <td>0.4404</td>\n",
       "    </tr>\n",
       "    <tr>\n",
       "      <th>2020-02-05</th>\n",
       "      <td>07:21AM</td>\n",
       "      <td>Thank ETF investors for higher gold prices</td>\n",
       "      <td>0.0</td>\n",
       "      <td>0.706</td>\n",
       "      <td>0.294</td>\n",
       "      <td>0.3612</td>\n",
       "    </tr>\n",
       "    <tr>\n",
       "      <th>2019-08-26</th>\n",
       "      <td>11:02AM</td>\n",
       "      <td>Say GDay To Gold ETF AAAU Backed by Australia</td>\n",
       "      <td>0.0</td>\n",
       "      <td>0.879</td>\n",
       "      <td>0.121</td>\n",
       "      <td>0.0258</td>\n",
       "    </tr>\n",
       "    <tr>\n",
       "      <th>2019-08-06</th>\n",
       "      <td>06:29PM</td>\n",
       "      <td>Should You Buy Gold ETFs Now?</td>\n",
       "      <td>0.0</td>\n",
       "      <td>1.000</td>\n",
       "      <td>0.000</td>\n",
       "      <td>0.0000</td>\n",
       "    </tr>\n",
       "    <tr>\n",
       "      <th>2019-08-06</th>\n",
       "      <td>02:56PM</td>\n",
       "      <td>Gold ETFs &amp; the World's Largest Gold Coin</td>\n",
       "      <td>0.0</td>\n",
       "      <td>1.000</td>\n",
       "      <td>0.000</td>\n",
       "      <td>0.0000</td>\n",
       "    </tr>\n",
       "    <tr>\n",
       "      <th>2019-07-17</th>\n",
       "      <td>01:35PM</td>\n",
       "      <td>NYSE Greets Huge Gold Coin to Showcase Perth M...</td>\n",
       "      <td>0.0</td>\n",
       "      <td>0.672</td>\n",
       "      <td>0.328</td>\n",
       "      <td>0.4404</td>\n",
       "    </tr>\n",
       "    <tr>\n",
       "      <th>2019-07-16</th>\n",
       "      <td>11:42AM</td>\n",
       "      <td>The Perth Mint to Ring NYSE Closing Bell Today</td>\n",
       "      <td>0.0</td>\n",
       "      <td>1.000</td>\n",
       "      <td>0.000</td>\n",
       "      <td>0.0000</td>\n",
       "    </tr>\n",
       "    <tr>\n",
       "      <th>2019-06-20</th>\n",
       "      <td>09:00AM</td>\n",
       "      <td>The Perth Mint Physical Gold ETF Recruits Comm...</td>\n",
       "      <td>0.0</td>\n",
       "      <td>0.612</td>\n",
       "      <td>0.388</td>\n",
       "      <td>0.7650</td>\n",
       "    </tr>\n",
       "  </tbody>\n",
       "</table>\n",
       "</div>"
      ],
      "text/plain": [
       "                         time  \\\n",
       "ticker    date                  \n",
       "AAAU.html 2022-08-18  01:40PM   \n",
       "          2022-01-19  05:50PM   \n",
       "          2020-12-14  01:30PM   \n",
       "          2020-12-14  08:00AM   \n",
       "          2020-08-11  01:14PM   \n",
       "          2020-06-26  12:10PM   \n",
       "          2020-05-18  12:08PM   \n",
       "          2020-02-05  07:21AM   \n",
       "          2019-08-26  11:02AM   \n",
       "          2019-08-06  06:29PM   \n",
       "          2019-08-06  02:56PM   \n",
       "          2019-07-17  01:35PM   \n",
       "          2019-07-16  11:42AM   \n",
       "          2019-06-20  09:00AM   \n",
       "\n",
       "                                                               headline  neg  \\\n",
       "ticker    date                                                                 \n",
       "AAAU.html 2022-08-18                         Best Gold ETFs for Q4 2022  0.0   \n",
       "          2022-01-19  Goldman Sachs Asset Management Announces Trans...  0.0   \n",
       "          2020-12-14                        Goldman Takes Over Gold ETF  0.0   \n",
       "          2020-12-14  Goldman Sachs Asset Management Announces Addit...  0.0   \n",
       "          2020-08-11              Best Precious Metals ETFs for Q4 2020  0.0   \n",
       "          2020-06-26      Gold Beats Stocks & Bonds in 1H: ETFs to Play  0.0   \n",
       "          2020-05-18   What Are Some Safe Investment Options Right Now?  0.0   \n",
       "          2020-02-05         Thank ETF investors for higher gold prices  0.0   \n",
       "          2019-08-26      Say GDay To Gold ETF AAAU Backed by Australia  0.0   \n",
       "          2019-08-06                      Should You Buy Gold ETFs Now?  0.0   \n",
       "          2019-08-06          Gold ETFs & the World's Largest Gold Coin  0.0   \n",
       "          2019-07-17  NYSE Greets Huge Gold Coin to Showcase Perth M...  0.0   \n",
       "          2019-07-16     The Perth Mint to Ring NYSE Closing Bell Today  0.0   \n",
       "          2019-06-20  The Perth Mint Physical Gold ETF Recruits Comm...  0.0   \n",
       "\n",
       "                        neu    pos  compound  \n",
       "ticker    date                                \n",
       "AAAU.html 2022-08-18  0.543  0.457    0.6369  \n",
       "          2022-01-19  0.872  0.128    0.3612  \n",
       "          2020-12-14  1.000  0.000    0.0000  \n",
       "          2020-12-14  0.865  0.135    0.3612  \n",
       "          2020-08-11  0.388  0.612    0.8360  \n",
       "          2020-06-26  0.455  0.545    0.8555  \n",
       "          2020-05-18  0.707  0.293    0.4404  \n",
       "          2020-02-05  0.706  0.294    0.3612  \n",
       "          2019-08-26  0.879  0.121    0.0258  \n",
       "          2019-08-06  1.000  0.000    0.0000  \n",
       "          2019-08-06  1.000  0.000    0.0000  \n",
       "          2019-07-17  0.672  0.328    0.4404  \n",
       "          2019-07-16  1.000  0.000    0.0000  \n",
       "          2019-06-20  0.612  0.388    0.7650  "
      ]
     },
     "execution_count": 11,
     "metadata": {},
     "output_type": "execute_result"
    }
   ],
   "source": [
    "single_day = scored_news_clean.set_index(['ticker', 'date'])\n",
    "single_day.head(14)"
   ]
  },
  {
   "cell_type": "code",
   "execution_count": 15,
   "id": "c360e04a",
   "metadata": {},
   "outputs": [
    {
     "name": "stdout",
     "output_type": "stream",
     "text": [
      "Enter the stock name: AAAU.html\n",
      "Enter the date (yyyy-mm-dd): 2020-12-14\n",
      "Stock Name: AAAU.html\n",
      "Date: 2020-12-14\n"
     ]
    }
   ],
   "source": [
    "# Take user input for stock_name and date\n",
    "stock_name = input(\"Enter the stock name: \")\n",
    "S_date = input(\"Enter the date (yyyy-mm-dd): \")\n",
    "# Display the user inputs\n",
    "print(\"Stock Name:\", stock_name)\n",
    "print(\"Date:\", S_date)"
   ]
  },
  {
   "cell_type": "markdown",
   "id": "22425ca8",
   "metadata": {},
   "source": [
    "## 8. EDA-Sentiment on one single trading day and stock\n"
   ]
  },
  {
   "cell_type": "code",
   "execution_count": 16,
   "id": "5c84405b",
   "metadata": {},
   "outputs": [],
   "source": [
    "# Set the index to ticker and date\n",
    "single_day = scored_news_clean.set_index(['ticker', 'date'])\n",
    "\n",
    "# Cross-section the 'fb' row\n",
    "single_day = single_day.xs(stock_name, drop_level=False)  # Use drop_level=False to keep the 'ticker' level in the index\n",
    "\n",
    "# Specify the date you want to select\n",
    "selected_date =S_date\n",
    "\n",
    "if selected_date in single_day.index.get_level_values('date'):\n",
    "    # Select rows with the specified date\n",
    "    single_day = single_day.loc[(slice(None), selected_date), :]\n",
    "\n",
    "    # Convert the 'time' column to datetime.time objects\n",
    "    single_day['time'] = pd.to_datetime(single_day['time']).dt.time\n",
    "\n",
    "    # Set 'time' as the new index\n",
    "    single_day = single_day.set_index('time')\n",
    "\n",
    "    # Sort the DataFrame by the new index\n",
    "    single_day = single_day.sort_index()\n",
    "else:\n",
    "    # Handle the case when the date is not found\n",
    "    print(f\"Date '{selected_date}' not found in the index. No data available for this date and stock.\")"
   ]
  },
  {
   "cell_type": "markdown",
   "id": "a871fbb4",
   "metadata": {},
   "source": [
    "# 9. EDA-Visualize the single day and outcome 1:\n",
    "We will make a plot to visualize the positive, negative and neutral scores for a single day of trading and a single stock."
   ]
  },
  {
   "cell_type": "code",
   "execution_count": 17,
   "id": "551d8547",
   "metadata": {},
   "outputs": [
    {
     "data": {
      "image/png": "[encoded data removed]",
      "text/plain": [
       "<Figure size 800x600 with 1 Axes>"
      ]
     },
     "metadata": {},
     "output_type": "display_data"
    }
   ],
   "source": [
    "TITLE = \"Negative, neutral, and positive sentiment for FB on 2020-12-14\"\n",
    "COLORS = [\"red\",\"orange\", \"green\"]\n",
    "\n",
    "# Drop the columns that aren't useful for the plot\n",
    "plot_day = single_day.drop(['compound', 'headline'], 1)\n",
    "\n",
    "# Change the column names to 'negative', 'positive', and 'neutral'\n",
    "plot_day.columns = ['negative', 'neutral', 'positive']\n",
    "\n",
    "# Plot a stacked bar chart\n",
    "import matplotlib.pyplot as plt\n",
    "\n",
    "# Define the title and colors\n",
    "TITLE=\"Negative, neutral, and positive sentiment of stock/company \" + stock_name+\" \" +\"On \"+ S_date\n",
    "COLORS = [\"red\", \"orange\", \"green\"]\n",
    "\n",
    "# Create a stacked bar plot\n",
    "ax = plot_day.plot(kind='bar', stacked=True, figsize=(8,6), colormap='viridis')\n",
    "plt.title(TITLE)\n",
    "plt.xlabel('Time')\n",
    "plt.ylabel('Scores')\n",
    "\n",
    "# Customize the legend location\n",
    "plt.legend(loc='upper right', bbox_to_anchor=(1.2, 0.5))\n",
    "\n",
    "# Show the plot\n",
    "plt.show()"
   ]
  },
  {
   "cell_type": "markdown",
   "id": "40689f72",
   "metadata": {},
   "source": [
    "# preprocessing and model building"
   ]
  },
  {
   "cell_type": "markdown",
   "id": "cf0f4f81",
   "metadata": {},
   "source": [
    "### Creating new dataframe with date and headline only"
   ]
  },
  {
   "cell_type": "code",
   "execution_count": 18,
   "id": "c7cd0076",
   "metadata": {},
   "outputs": [],
   "source": [
    "stock_df= scored_news_clean.drop([\"date\",\"ticker\",\"time\",\"neg\",\"neu\",\"pos\",\"compound\"], axis=1)"
   ]
  },
  {
   "cell_type": "code",
   "execution_count": 19,
   "id": "7388082f",
   "metadata": {},
   "outputs": [
    {
     "name": "stdout",
     "output_type": "stream",
     "text": [
      "<class 'pandas.core.frame.DataFrame'>\n",
      "Int64Index: 3504 entries, 0 to 3718\n",
      "Data columns (total 1 columns):\n",
      " #   Column    Non-Null Count  Dtype \n",
      "---  ------    --------------  ----- \n",
      " 0   headline  3504 non-null   object\n",
      "dtypes: object(1)\n",
      "memory usage: 54.8+ KB\n"
     ]
    }
   ],
   "source": [
    "stock_df.info()"
   ]
  },
  {
   "cell_type": "code",
   "execution_count": 20,
   "id": "ce294a9b",
   "metadata": {},
   "outputs": [
    {
     "data": {
      "text/html": [
       "<div>\n",
       "<style scoped>\n",
       "    .dataframe tbody tr th:only-of-type {\n",
       "        vertical-align: middle;\n",
       "    }\n",
       "\n",
       "    .dataframe tbody tr th {\n",
       "        vertical-align: top;\n",
       "    }\n",
       "\n",
       "    .dataframe thead th {\n",
       "        text-align: right;\n",
       "    }\n",
       "</style>\n",
       "<table border=\"1\" class=\"dataframe\">\n",
       "  <thead>\n",
       "    <tr style=\"text-align: right;\">\n",
       "      <th></th>\n",
       "      <th>headline</th>\n",
       "    </tr>\n",
       "  </thead>\n",
       "  <tbody>\n",
       "    <tr>\n",
       "      <th>0</th>\n",
       "      <td>Best Gold ETFs for Q4 2022</td>\n",
       "    </tr>\n",
       "    <tr>\n",
       "      <th>1</th>\n",
       "      <td>Goldman Sachs Asset Management Announces Trans...</td>\n",
       "    </tr>\n",
       "    <tr>\n",
       "      <th>2</th>\n",
       "      <td>Goldman Takes Over Gold ETF</td>\n",
       "    </tr>\n",
       "  </tbody>\n",
       "</table>\n",
       "</div>"
      ],
      "text/plain": [
       "                                            headline\n",
       "0                         Best Gold ETFs for Q4 2022\n",
       "1  Goldman Sachs Asset Management Announces Trans...\n",
       "2                        Goldman Takes Over Gold ETF"
      ]
     },
     "execution_count": 20,
     "metadata": {},
     "output_type": "execute_result"
    }
   ],
   "source": [
    "stock_df.head(3)"
   ]
  },
  {
   "cell_type": "code",
   "execution_count": 21,
   "id": "ad85fdd0",
   "metadata": {},
   "outputs": [],
   "source": [
    "from nltk.sentiment.vader import SentimentIntensityAnalyzer\n",
    "# create sentiment intensity analyzer object\n",
    "SIA = SentimentIntensityAnalyzer()"
   ]
  },
  {
   "cell_type": "code",
   "execution_count": 22,
   "id": "0ed50af2",
   "metadata": {},
   "outputs": [],
   "source": [
    "def mapper(data):\n",
    "    if data > 0:\n",
    "        return \"Positive\"\n",
    "    elif data < 0:\n",
    "        return \"Negative\"\n",
    "    else:\n",
    "        return \"Neutral\"\n",
    "\n",
    "def sentiment_analysis(stock_df):\n",
    "    \n",
    "    # assigning polarity scores for description column\n",
    "    stock_df['polarity_scores'] = stock_df[\"headline\"].apply(lambda w: SIA.polarity_scores(w))\n",
    "    \n",
    "    # picking only compound score(combined score)\n",
    "    stock_df['compound_score'] = stock_df['polarity_scores'].apply(lambda x: x['compound'])\n",
    "    \n",
    "    # mapping the compound score to positive, negative or neutral\n",
    "    stock_df['sentiment_score'] = stock_df['compound_score'].apply(mapper)\n",
    "    \n",
    "    stock_df.drop(['polarity_scores', 'compound_score'], axis=1, inplace=True)\n",
    "    return stock_df"
   ]
  },
  {
   "cell_type": "code",
   "execution_count": 23,
   "id": "ac8fe592",
   "metadata": {},
   "outputs": [
    {
     "name": "stdout",
     "output_type": "stream",
     "text": [
      "                                               headline sentiment_score\n",
      "0                            Best Gold ETFs for Q4 2022        Positive\n",
      "1     Goldman Sachs Asset Management Announces Trans...        Positive\n",
      "2                           Goldman Takes Over Gold ETF         Neutral\n",
      "3     Goldman Sachs Asset Management Announces Addit...        Positive\n",
      "4                 Best Precious Metals ETFs for Q4 2020        Positive\n",
      "...                                                 ...             ...\n",
      "3714  Zapp Electric Vehicles ($ZAPP) i300 EV Urban M...        Positive\n",
      "3715  Zapp Secures Twin Patents For Innovative i300 ...        Positive\n",
      "3716  Zapp Appoints Production Veteran as Operations...         Neutral\n",
      "3717  Zapp Appoints Mark Kobal as Head of Investor R...         Neutral\n",
      "3718  Zapp Celebrates Successful Listing on the Nasd...        Positive\n",
      "\n",
      "[3504 rows x 2 columns]\n"
     ]
    }
   ],
   "source": [
    "print(sentiment_analysis(stock_df))"
   ]
  },
  {
   "cell_type": "markdown",
   "id": "98c8094a",
   "metadata": {},
   "source": [
    "# Data random sampling"
   ]
  },
  {
   "cell_type": "code",
   "execution_count": 24,
   "id": "8c61a1a0",
   "metadata": {},
   "outputs": [
    {
     "name": "stdout",
     "output_type": "stream",
     "text": [
      "(3153,) (351,) (3153,) (351,)\n"
     ]
    }
   ],
   "source": [
    "from sklearn.model_selection import train_test_split\n",
    "\n",
    "X = stock_df['headline']\n",
    "y = stock_df.sentiment_score\n",
    "\n",
    "X_train, X_test, y_train, y_test = train_test_split(X, y, test_size=0.1)\n",
    "print(X_train.shape, X_test.shape, y_train.shape, y_test.shape)"
   ]
  },
  {
   "cell_type": "markdown",
   "id": "965542f6",
   "metadata": {},
   "source": [
    "# LinearSVC"
   ]
  },
  {
   "cell_type": "code",
   "execution_count": 25,
   "id": "ee93fd89",
   "metadata": {},
   "outputs": [
    {
     "name": "stdout",
     "output_type": "stream",
     "text": [
      "MODEL: LINEAR SVC\n",
      "accuarcy score:  0.8176638176638177\n",
      "Confusion matrix:  [[ 24  14  10]\n",
      " [  1 157  13]\n",
      " [  7  19 106]]\n",
      "              precision    recall  f1-score   support\n",
      "\n",
      "    Negative       0.75      0.50      0.60        48\n",
      "     Neutral       0.83      0.92      0.87       171\n",
      "    Positive       0.82      0.80      0.81       132\n",
      "\n",
      "    accuracy                           0.82       351\n",
      "   macro avg       0.80      0.74      0.76       351\n",
      "weighted avg       0.81      0.82      0.81       351\n",
      "\n"
     ]
    }
   ],
   "source": [
    "\n",
    "from sklearn.feature_extraction.text import TfidfVectorizer\n",
    "from sklearn.svm import LinearSVC\n",
    "from sklearn.pipeline import Pipeline\n",
    "from sklearn.metrics import accuracy_score, precision_score, recall_score, confusion_matrix, classification_report,f1_score\n",
    "\n",
    "lin_svc_ds = Pipeline([('tfidf', TfidfVectorizer()),\n",
    "                      ('lin_svc', LinearSVC())])\n",
    "lin_svc_ds.fit(X_train, y_train)\n",
    "pred = lin_svc_ds.predict(X_test)\n",
    "\n",
    "print(\"MODEL: LINEAR SVC\")\n",
    "print(\"accuarcy score: \", accuracy_score(y_test, pred))\n",
    "print(\"Confusion matrix: \", confusion_matrix(y_test, pred))\n",
    "print(classification_report(y_test, pred))\n",
    "\n"
   ]
  },
  {
   "cell_type": "markdown",
   "id": "011d2c75",
   "metadata": {},
   "source": [
    "## Logistic Regression\n"
   ]
  },
  {
   "cell_type": "code",
   "execution_count": 26,
   "id": "55ff93c1",
   "metadata": {},
   "outputs": [
    {
     "name": "stdout",
     "output_type": "stream",
     "text": [
      "MODEL: LOGISTIC REGRESSION\n",
      "accuracy score:  0.7806267806267806\n",
      "Confusion matrix:  [[ 16  16  16]\n",
      " [  0 161  10]\n",
      " [  6  29  97]]\n",
      "              precision    recall  f1-score   support\n",
      "\n",
      "    Negative       0.73      0.33      0.46        48\n",
      "     Neutral       0.78      0.94      0.85       171\n",
      "    Positive       0.79      0.73      0.76       132\n",
      "\n",
      "    accuracy                           0.78       351\n",
      "   macro avg       0.77      0.67      0.69       351\n",
      "weighted avg       0.78      0.78      0.76       351\n",
      "\n",
      "CPU times: total: 1.69 s\n",
      "Wall time: 545 ms\n"
     ]
    }
   ],
   "source": [
    "%%time\n",
    "\n",
    "from sklearn.feature_extraction.text import TfidfVectorizer\n",
    "from sklearn.linear_model import LogisticRegression\n",
    "from sklearn.pipeline import Pipeline\n",
    "from sklearn.metrics import accuracy_score, precision_score, recall_score, confusion_matrix, classification_report, f1_score\n",
    "\n",
    "logistic_regression_ds = Pipeline([('tfidf', TfidfVectorizer()),\n",
    "                                   ('logistic_regression', LogisticRegression())])\n",
    "logistic_regression_ds.fit(X_train, y_train)\n",
    "pred = logistic_regression_ds.predict(X_test)\n",
    "\n",
    "print(\"MODEL: LOGISTIC REGRESSION\")\n",
    "print(\"accuracy score: \", accuracy_score(y_test, pred))\n",
    "print(\"Confusion matrix: \", confusion_matrix(y_test, pred))\n",
    "print(classification_report(y_test, pred))\n"
   ]
  },
  {
   "cell_type": "markdown",
   "id": "ffb91c9f",
   "metadata": {},
   "source": [
    "## support vector machine"
   ]
  },
  {
   "cell_type": "code",
   "execution_count": 27,
   "id": "a11248ab",
   "metadata": {},
   "outputs": [
    {
     "name": "stdout",
     "output_type": "stream",
     "text": [
      "MODEL: SUPPORT VECTOR MACHINE (SVM)\n",
      "accuracy score:  0.7578347578347578\n",
      "Confusion matrix:  [[ 12  21  15]\n",
      " [  0 161  10]\n",
      " [  5  34  93]]\n",
      "              precision    recall  f1-score   support\n",
      "\n",
      "    Negative       0.71      0.25      0.37        48\n",
      "     Neutral       0.75      0.94      0.83       171\n",
      "    Positive       0.79      0.70      0.74       132\n",
      "\n",
      "    accuracy                           0.76       351\n",
      "   macro avg       0.75      0.63      0.65       351\n",
      "weighted avg       0.76      0.76      0.74       351\n",
      "\n",
      "CPU times: total: 2.47 s\n",
      "Wall time: 2.06 s\n"
     ]
    }
   ],
   "source": [
    "%%time\n",
    "\n",
    "from sklearn.feature_extraction.text import TfidfVectorizer\n",
    "from sklearn.svm import SVC\n",
    "from sklearn.pipeline import Pipeline\n",
    "from sklearn.metrics import accuracy_score, precision_score, recall_score, confusion_matrix, classification_report, f1_score\n",
    "\n",
    "svm_ds = Pipeline([('tfidf', TfidfVectorizer()),\n",
    "                   ('svm', SVC())])\n",
    "svm_ds.fit(X_train, y_train)\n",
    "pred = svm_ds.predict(X_test)\n",
    "\n",
    "print(\"MODEL: SUPPORT VECTOR MACHINE (SVM)\")\n",
    "print(\"accuracy score: \", accuracy_score(y_test, pred))\n",
    "print(\"Confusion matrix: \", confusion_matrix(y_test, pred))\n",
    "print(classification_report(y_test, pred))\n"
   ]
  },
  {
   "cell_type": "markdown",
   "id": "26d0ac5f",
   "metadata": {},
   "source": [
    "## Random Forest"
   ]
  },
  {
   "cell_type": "code",
   "execution_count": 28,
   "id": "a9c2791b",
   "metadata": {},
   "outputs": [
    {
     "name": "stdout",
     "output_type": "stream",
     "text": [
      "MODEL: RANDOM FOREST\n",
      "accuracy score:  0.7891737891737892\n",
      "Confusion matrix:  [[ 18  22   8]\n",
      " [  1 169   1]\n",
      " [  5  37  90]]\n",
      "              precision    recall  f1-score   support\n",
      "\n",
      "    Negative       0.75      0.38      0.50        48\n",
      "     Neutral       0.74      0.99      0.85       171\n",
      "    Positive       0.91      0.68      0.78       132\n",
      "\n",
      "    accuracy                           0.79       351\n",
      "   macro avg       0.80      0.68      0.71       351\n",
      "weighted avg       0.81      0.79      0.77       351\n",
      "\n",
      "CPU times: total: 9.11 s\n",
      "Wall time: 9.16 s\n"
     ]
    }
   ],
   "source": [
    "%%time\n",
    "\n",
    "from sklearn.feature_extraction.text import TfidfVectorizer\n",
    "from sklearn.ensemble import RandomForestClassifier\n",
    "from sklearn.pipeline import Pipeline\n",
    "from sklearn.metrics import accuracy_score, precision_score, recall_score, confusion_matrix, classification_report, f1_score\n",
    "\n",
    "random_forest_ds = Pipeline([('tfidf', TfidfVectorizer()),\n",
    "                             ('random_forest', RandomForestClassifier())])\n",
    "random_forest_ds.fit(X_train, y_train)\n",
    "pred = random_forest_ds.predict(X_test)\n",
    "\n",
    "print(\"MODEL: RANDOM FOREST\")\n",
    "print(\"accuracy score: \", accuracy_score(y_test, pred))\n",
    "print(\"Confusion matrix: \", confusion_matrix(y_test, pred))\n",
    "print(classification_report(y_test, pred))\n"
   ]
  },
  {
   "cell_type": "markdown",
   "id": "2adf8835",
   "metadata": {},
   "source": [
    "## KNeighborsClassifier"
   ]
  },
  {
   "cell_type": "code",
   "execution_count": 29,
   "id": "8d39e461",
   "metadata": {},
   "outputs": [
    {
     "name": "stdout",
     "output_type": "stream",
     "text": [
      "MODEL: NAIVE BAYES\n",
      "accuracy score:  0.698005698005698\n",
      "Confusion matrix:  [[  3  24  21]\n",
      " [  0 151  20]\n",
      " [  1  40  91]]\n",
      "              precision    recall  f1-score   support\n",
      "\n",
      "    Negative       0.75      0.06      0.12        48\n",
      "     Neutral       0.70      0.88      0.78       171\n",
      "    Positive       0.69      0.69      0.69       132\n",
      "\n",
      "    accuracy                           0.70       351\n",
      "   macro avg       0.71      0.54      0.53       351\n",
      "weighted avg       0.70      0.70      0.66       351\n",
      "\n",
      "CPU times: total: 93.8 ms\n",
      "Wall time: 87 ms\n"
     ]
    }
   ],
   "source": [
    "%%time\n",
    "\n",
    "from sklearn.feature_extraction.text import TfidfVectorizer\n",
    "from sklearn.naive_bayes import MultinomialNB\n",
    "from sklearn.pipeline import Pipeline\n",
    "from sklearn.metrics import accuracy_score, precision_score, recall_score, confusion_matrix, classification_report, f1_score\n",
    "\n",
    "naive_bayes_ds = Pipeline([('tfidf', TfidfVectorizer()),\n",
    "                           ('naive_bayes', MultinomialNB())])\n",
    "naive_bayes_ds.fit(X_train, y_train)\n",
    "pred = naive_bayes_ds.predict(X_test)\n",
    "\n",
    "print(\"MODEL: NAIVE BAYES\")\n",
    "print(\"accuracy score: \", accuracy_score(y_test, pred))\n",
    "print(\"Confusion matrix: \", confusion_matrix(y_test, pred))\n",
    "print(classification_report(y_test, pred))\n"
   ]
  },
  {
   "cell_type": "markdown",
   "id": "76459cc8",
   "metadata": {},
   "source": [
    "## xgboost"
   ]
  },
  {
   "cell_type": "code",
   "execution_count": 30,
   "id": "f6140521",
   "metadata": {},
   "outputs": [],
   "source": [
    "from xgboost import XGBClassifier\n",
    "from sklearn.preprocessing import LabelEncoder\n",
    "from sklearn.metrics import accuracy_score, precision_score, recall_score, confusion_matrix, classification_report, f1_score\n",
    "from sklearn.pipeline import Pipeline"
   ]
  },
  {
   "cell_type": "code",
   "execution_count": 31,
   "id": "96322d0b",
   "metadata": {},
   "outputs": [
    {
     "name": "stdout",
     "output_type": "stream",
     "text": [
      "              precision    recall  f1-score   support\n",
      "\n",
      "    Negative       0.82      0.48      0.61        48\n",
      "     Neutral       0.75      0.94      0.84       171\n",
      "    Positive       0.83      0.70      0.76       132\n",
      "\n",
      "    accuracy                           0.78       351\n",
      "   macro avg       0.80      0.70      0.73       351\n",
      "weighted avg       0.79      0.78      0.77       351\n",
      "\n"
     ]
    }
   ],
   "source": [
    "from sklearn.preprocessing import LabelEncoder\n",
    "from sklearn.metrics import accuracy_score, precision_score, recall_score, confusion_matrix, classification_report, f1_score\n",
    "# Initialize the label encoder\n",
    "label_encoder = LabelEncoder()\n",
    "\n",
    "# Encode the target variable into integer labels\n",
    "y_train_encoded = label_encoder.fit_transform(y_train)\n",
    "y_test_encoded = label_encoder.transform(y_test)\n",
    "\n",
    "# Use the encoded target variable in your XGBoost pipeline\n",
    "xgboost_ds = Pipeline([('tfidf', TfidfVectorizer()),\n",
    "                       ('xgboost', XGBClassifier())])\n",
    "xgboost_ds.fit(X_train, y_train_encoded)\n",
    "pred_encoded = xgboost_ds.predict(X_test)\n",
    "\n",
    "# Inverse transform the predictions to get the original class labels\n",
    "pred = label_encoder.inverse_transform(pred_encoded)\n",
    "\n",
    "# Now you can calculate accuracy and other metrics\n",
    "accuracy = accuracy_score(y_test, pred)\n",
    "# ... rest of your code for metrics and reporting\n",
    "\n",
    "print(classification_report(y_test, pred))"
   ]
  },
  {
   "cell_type": "markdown",
   "id": "afdf4560",
   "metadata": {},
   "source": [
    "## GradientBoostingClassifier"
   ]
  },
  {
   "cell_type": "code",
   "execution_count": 32,
   "id": "ad8494c3",
   "metadata": {},
   "outputs": [
    {
     "name": "stdout",
     "output_type": "stream",
     "text": [
      "              precision    recall  f1-score   support\n",
      "\n",
      "    Negative       0.76      0.33      0.46        48\n",
      "     Neutral       0.70      0.99      0.82       171\n",
      "    Positive       0.93      0.61      0.74       132\n",
      "\n",
      "    accuracy                           0.76       351\n",
      "   macro avg       0.80      0.65      0.67       351\n",
      "weighted avg       0.80      0.76      0.74       351\n",
      "\n"
     ]
    }
   ],
   "source": [
    "from sklearn.ensemble import GradientBoostingClassifier\n",
    "from sklearn.metrics import accuracy_score, precision_score, recall_score, confusion_matrix, classification_report, f1_score\n",
    "\n",
    "# Initialize the label encoder\n",
    "label_encoder = LabelEncoder()\n",
    "\n",
    "# Encode the target variable into integer labels\n",
    "y_train_encoded = label_encoder.fit_transform(y_train)\n",
    "y_test_encoded = label_encoder.transform(y_test)\n",
    "\n",
    "# Use the encoded target variable in your Gradient Boosting pipeline\n",
    "gradient_boosting_ds = Pipeline([('tfidf', TfidfVectorizer()),\n",
    "                                  ('gradient_boosting', GradientBoostingClassifier())])\n",
    "gradient_boosting_ds.fit(X_train, y_train_encoded)\n",
    "pred_encoded = gradient_boosting_ds.predict(X_test)\n",
    "\n",
    "# Inverse transform the predictions to get the original class labels\n",
    "pred = label_encoder.inverse_transform(pred_encoded)\n",
    "\n",
    "# Now you can calculate accuracy and other metrics\n",
    "accuracy = accuracy_score(y_test, pred)\n",
    "# ... rest of your code for metrics and reporting\n",
    "\n",
    "print(classification_report(y_test, pred))\n"
   ]
  },
  {
   "cell_type": "markdown",
   "id": "525e9d8b",
   "metadata": {},
   "source": [
    "# ----------------------------------lets predict on XGboost---------------------------------"
   ]
  },
  {
   "cell_type": "code",
   "execution_count": 33,
   "id": "52d6fdbc",
   "metadata": {},
   "outputs": [
    {
     "name": "stdout",
     "output_type": "stream",
     "text": [
      "['Positive']\n"
     ]
    }
   ],
   "source": [
    "sentiment = [' Best Precious Metals ETFs for Q4 2020']\n",
    "y_predict = xgboost_ds.predict(sentiment)\n",
    "pred = label_encoder.inverse_transform(y_predict)\n",
    "print(pred)"
   ]
  },
  {
   "cell_type": "code",
   "execution_count": 34,
   "id": "473844d7",
   "metadata": {},
   "outputs": [
    {
     "name": "stdout",
     "output_type": "stream",
     "text": [
      "['Neutral']\n"
     ]
    }
   ],
   "source": [
    "sentiment = [' Zapp Appoints Mark Kobal as Head of Investor']\n",
    "y_predict = xgboost_ds.predict(sentiment)\n",
    "pred = label_encoder.inverse_transform(y_predict)\n",
    "print(pred)"
   ]
  },
  {
   "cell_type": "code",
   "execution_count": null,
   "id": "a603bd0d",
   "metadata": {},
   "outputs": [],
   "source": []
  }
 ],
 "metadata": {
  "kernelspec": {
   "display_name": "Python 3 (ipykernel)",
   "language": "python",
   "name": "python3"
  },
  "language_info": {
   "codemirror_mode": {
    "name": "ipython",
    "version": 3
   },
   "file_extension": ".py",
   "mimetype": "text/x-python",
   "name": "python",
   "nbconvert_exporter": "python",
   "pygments_lexer": "ipython3",
   "version": "3.10.9"
  }
 },
 "nbformat": 4,
 "nbformat_minor": 5
}
